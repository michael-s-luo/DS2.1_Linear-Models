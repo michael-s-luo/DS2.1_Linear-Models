{
  "nbformat": 4,
  "nbformat_minor": 0,
  "metadata": {
    "colab": {
      "name": "211_guided-project-notes.ipynb",
      "provenance": []
    },
    "kernelspec": {
      "name": "python3",
      "display_name": "Python 3"
    }
  },
  "cells": [
    {
      "cell_type": "markdown",
      "metadata": {
        "id": "CPzo2e6aFrjx"
      },
      "source": [
        "# BloomTech Data Science - Unit 2 Sprint 1 Module 1"
      ]
    },
    {
      "cell_type": "code",
      "metadata": {
        "id": "XdKtS6Gi5jul"
      },
      "source": [
        "import pandas as pd\n",
        "import matplotlib.pyplot as plt\n",
        "import numpy as np\n",
        "from sklearn.metrics import mean_absolute_error"
      ],
      "execution_count": null,
      "outputs": []
    },
    {
      "cell_type": "markdown",
      "metadata": {
        "id": "2EVx8r5HLa6f"
      },
      "source": [
        "# I. Wrangle Data"
      ]
    },
    {
      "cell_type": "code",
      "metadata": {
        "id": "syxaPzCWqfTY"
      },
      "source": [
        "df = wrangle(DATA_PATH + 'condos/tribeca.csv')"
      ],
      "execution_count": null,
      "outputs": []
    },
    {
      "cell_type": "markdown",
      "metadata": {
        "id": "GgRcyfQMXhzJ"
      },
      "source": [
        "# II. Split Data\n",
        "\n",
        "Split our dataset into a **feature matrix `X`** and a **target vector `y`**."
      ]
    },
    {
      "cell_type": "code",
      "metadata": {
        "id": "wTYqSJ8chRGa"
      },
      "source": [
        ""
      ],
      "execution_count": null,
      "outputs": []
    },
    {
      "cell_type": "markdown",
      "metadata": {
        "id": "CuwsiXRlYsjG"
      },
      "source": [
        "# III. Establish Baseline\n",
        "\n",
        "If you had a *naïve model* that could only predict one value, how well would you model perform?"
      ]
    },
    {
      "cell_type": "code",
      "metadata": {
        "id": "1Ek2mN04hTmT"
      },
      "source": [
        ""
      ],
      "execution_count": null,
      "outputs": []
    },
    {
      "cell_type": "code",
      "metadata": {
        "id": "NiWjkzmiBU3I"
      },
      "source": [
        ""
      ],
      "execution_count": null,
      "outputs": []
    },
    {
      "cell_type": "markdown",
      "metadata": {
        "id": "3bFjzSkUdl21"
      },
      "source": [
        "# IV. Build Model"
      ]
    },
    {
      "cell_type": "code",
      "metadata": {
        "id": "teYsy_7fhWiG"
      },
      "source": [
        ""
      ],
      "execution_count": null,
      "outputs": []
    },
    {
      "cell_type": "markdown",
      "metadata": {
        "id": "Lo3CypnUfIwc"
      },
      "source": [
        "# V. Check Metrics"
      ]
    },
    {
      "cell_type": "code",
      "metadata": {
        "id": "l1WsFoaUJ_Vx"
      },
      "source": [
        ""
      ],
      "execution_count": null,
      "outputs": []
    },
    {
      "cell_type": "markdown",
      "metadata": {
        "id": "jGYUL1mufdS-"
      },
      "source": [
        "# VI. Communicate Results\n",
        "\n",
        "Plot model"
      ]
    },
    {
      "cell_type": "code",
      "metadata": {
        "id": "y6RUbvFdB3jl"
      },
      "source": [
        ""
      ],
      "execution_count": null,
      "outputs": []
    },
    {
      "cell_type": "markdown",
      "metadata": {
        "id": "qsDBGc49K7Uh"
      },
      "source": [
        "What are our beta coefficients?"
      ]
    },
    {
      "cell_type": "code",
      "metadata": {
        "id": "rgoaqGY_KjnH"
      },
      "source": [
        ""
      ],
      "execution_count": null,
      "outputs": []
    },
    {
      "cell_type": "code",
      "metadata": {
        "id": "6a-GOP4BLMOB"
      },
      "source": [
        ""
      ],
      "execution_count": null,
      "outputs": []
    }
  ]
}
