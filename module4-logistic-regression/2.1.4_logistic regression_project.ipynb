{
  "cells": [
    {
      "cell_type": "markdown",
      "metadata": {
        "id": "jzr2PTgFojFk"
      },
      "source": [
        "# Data Science  - Unit 2.1.4\n",
        "Name: Michael Luo\n",
        "\n",
        "Date: 2022/10/29"
      ]
    },
    {
      "cell_type": "code",
      "execution_count": null,
      "metadata": {
        "id": "9_jDdCcoojFn"
      },
      "outputs": [],
      "source": [
        "%%capture\n",
        "import sys\n",
        "\n",
        "# If you're on Colab:\n",
        "if 'google.colab' in sys.modules:\n",
        "    DATA_PATH = 'https://raw.githubusercontent.com/LambdaSchool/DS-Unit-2-Linear-Models/master/data/'\n",
        "    !pip install category_encoders==2.*\n",
        "\n",
        "# If you're working locally:\n",
        "else:\n",
        "    DATA_PATH = '../data/'"
      ]
    },
    {
      "cell_type": "markdown",
      "metadata": {
        "id": "KcRrSUh9ojFo"
      },
      "source": [
        "# Module Project: Logistic Regression\n",
        "\n",
        "Do you like burritos? 🌯 You're in luck then, because in this project you'll create a model to predict whether a burrito is `'Great'`.\n",
        "\n",
        "The dataset for this assignment comes from [Scott Cole](https://srcole.github.io/100burritos/), a San Diego-based data scientist and burrito enthusiast. \n",
        "\n",
        "## Directions\n",
        "\n",
        "The tasks for this project are the following:\n",
        "\n",
        "- **Task 1:** Import `csv` file using `wrangle` function.\n",
        "- **Task 2:** Conduct exploratory data analysis (EDA), and modify `wrangle` function .\n",
        "- **Task 3:** Split data into feature matrix `X` and target vector `y`.\n",
        "- **Task 4:** Split feature matrix `X` and target vector `y` into training and test sets.\n",
        "- **Task 5:** Establish the baseline accuracy score for your dataset.\n",
        "- **Task 6:** Build `model_logr` using a pipeline that includes three transfomers and `LogisticRegression` predictor. Train model on `X_train` and `X_test`.\n",
        "- **Task 7:** Calculate the training and test accuracy score for your model.\n",
        "- **Task 8:** Create a horizontal bar chart showing the 10 most influencial features for your  model. \n",
        "- **Task 9:** Demonstrate and explain the differences between `model_lr.predict()` and `model_lr.predict_proba()`.\n",
        "\n",
        "**Note** \n",
        "\n",
        "You should limit yourself to the following libraries:\n",
        "\n",
        "- `category_encoders`\n",
        "- `matplotlib`\n",
        "- `pandas`\n",
        "- `sklearn`"
      ]
    },
    {
      "cell_type": "code",
      "source": [
        "import pandas as pd\n",
        "import numpy as np\n",
        "\n",
        "#encoding, preprocessing\n",
        "from sklearn.impute import SimpleImputer\n",
        "from sklearn.preprocessing import StandardScaler\n",
        "from category_encoders import OneHotEncoder\n",
        "\n",
        "#sklearn & modelling\n",
        "from sklearn.linear_model import LogisticRegression\n",
        "from sklearn.pipeline import make_pipeline\n",
        "\n",
        "#visualization\n",
        "import matplotlib.pyplot as plt\n",
        "import seaborn as sns"
      ],
      "metadata": {
        "id": "NOLDYVVRo35e"
      },
      "execution_count": null,
      "outputs": []
    },
    {
      "cell_type": "markdown",
      "metadata": {
        "id": "f2dizeGWojFo"
      },
      "source": [
        "# I. Wrangle Data"
      ]
    },
    {
      "cell_type": "code",
      "execution_count": null,
      "metadata": {
        "id": "aEkvfFRBojFp"
      },
      "outputs": [],
      "source": [
        "def wrangle(filepath):\n",
        "    # Import w/ DateTimeIndex\n",
        "    df = pd.read_csv(filepath, parse_dates=['Date'],\n",
        "                     index_col='Date')\n",
        "    \n",
        "    # Drop unrated burritos\n",
        "    df.dropna(subset=['overall'], inplace=True)\n",
        "    \n",
        "    # Derive binary classification target:\n",
        "    # We define a 'Great' burrito as having an\n",
        "    # overall rating of 4 or higher, on a 5 point scale\n",
        "    df['Great'] = (df['overall'] >= 4).astype(int)\n",
        "    \n",
        "    # Drop high cardinality categoricals\n",
        "    df = df.drop(columns=['Notes', 'Location', 'Address', 'URL', 'Neighborhood'])\n",
        "    \n",
        "    # Drop columns to prevent \"leakage\"\n",
        "    df = df.drop(columns=['Rec', 'overall'])\n",
        "\n",
        "    #drop constant cols\n",
        "    cols_const = [col for col, nunique in df.nunique().items() if nunique == 0]\n",
        "    df.drop(columns=cols_const, inplace = True)\n",
        "    \n",
        "    #Manually fix chips: binary col with 4 unique values\n",
        "    df['Chips'] = df['Chips'].str.upper().map({'X':'X', 'YES':'X', 'NO':np.NaN})\n",
        "\n",
        "    #clean up binary columns \n",
        "    cols_binary = [col for col, nunique in df.astype(str).applymap(str.upper).nunique().items() if nunique == 2]\n",
        "    cols_binary.remove('Great') #exclude target\n",
        "    #DEBUG print(cols_binary)\n",
        "    df.loc[:, cols_binary] = df[cols_binary].notnull().astype(int)\n",
        "  \n",
        "    #Stretch Goal: Encode type of burrito\n",
        "    df['b_california'] = df['Burrito'].str.lower().str.contains(r'cali').astype('int')\n",
        "    df['b_asada'] = df['Burrito'].str.lower().str.contains(r'asada').astype('int')\n",
        "    df['b_surf'] = df['Burrito'].str.lower().str.contains(r'surf').astype('int')\n",
        "    df['b_carnitas'] = df['Burrito'].str.lower().str.contains(r'carnitas').astype('int')\n",
        "    df.drop(columns='Burrito', inplace=True)\n",
        "    \n",
        "    return df.sort_index()\n",
        "\n",
        "filepath = DATA_PATH + 'burritos/burritos.csv'"
      ]
    },
    {
      "cell_type": "markdown",
      "metadata": {
        "id": "nazS0xvrojFp"
      },
      "source": [
        "**Task 1:** Use the above `wrangle` function to import the `burritos.csv` file into a DataFrame named `df`."
      ]
    },
    {
      "cell_type": "code",
      "execution_count": null,
      "metadata": {
        "id": "eXkWr47VojFp"
      },
      "outputs": [],
      "source": [
        "filepath = DATA_PATH + 'burritos/burritos.csv'\n",
        "df = wrangle(filepath)"
      ]
    },
    {
      "cell_type": "markdown",
      "metadata": {
        "id": "CXigIpwvojFq"
      },
      "source": [
        "During your exploratory data analysis, note that there are several columns whose data type is `object` but that seem to be a binary encoding. For example, `df['Beef'].head()` returns:\n",
        "\n",
        "```\n",
        "0      x\n",
        "1      x\n",
        "2    NaN\n",
        "3      x\n",
        "4      x\n",
        "Name: Beef, dtype: object\n",
        "```\n",
        "\n",
        "**Task 2:** Change the `wrangle` function so that these columns are properly encoded as `0` and `1`s. Be sure your code handles upper- and lowercase `X`s, and `NaN`s."
      ]
    },
    {
      "cell_type": "code",
      "execution_count": null,
      "metadata": {
        "id": "Tjs1YmOUojFq",
        "colab": {
          "base_uri": "https://localhost:8080/",
          "height": 267
        },
        "outputId": "6fabe73b-6e9a-4a8b-dd19-e45ba5c6303e"
      },
      "outputs": [
        {
          "output_type": "execute_result",
          "data": {
            "text/plain": [
              "                Burrito  Yelp  Google  Chips  Cost  Hunger  Mass (g)  \\\n",
              "Date                                                                   \n",
              "2016-01-18  California    3.5     4.2      0  6.49     3.0       NaN   \n",
              "2016-01-24  California    3.5     3.3      0  5.45     3.5       NaN   \n",
              "2016-01-24     Carnitas   NaN     NaN      0  4.85     1.5       NaN   \n",
              "2016-01-24  Carne asada   NaN     NaN      0  5.25     2.0       NaN   \n",
              "2016-01-27   California   4.0     3.8      1  6.59     4.0       NaN   \n",
              "\n",
              "            Density (g/mL)  Length  Circum  ...  Nopales  Lobster  Egg  \\\n",
              "Date                                        ...                          \n",
              "2016-01-18             NaN     NaN     NaN  ...        0        0    0   \n",
              "2016-01-24             NaN     NaN     NaN  ...        0        0    0   \n",
              "2016-01-24             NaN     NaN     NaN  ...        0        0    0   \n",
              "2016-01-24             NaN     NaN     NaN  ...        0        0    0   \n",
              "2016-01-27             NaN     NaN     NaN  ...        0        0    0   \n",
              "\n",
              "            Mushroom  Bacon  Sushi  Avocado  Corn  Zucchini  Great  \n",
              "Date                                                                \n",
              "2016-01-18         0      0      0        0   NaN         0      0  \n",
              "2016-01-24         0      0      0        0   NaN         0      0  \n",
              "2016-01-24         0      0      0        0   NaN         0      0  \n",
              "2016-01-24         0      0      0        0   NaN         0      0  \n",
              "2016-01-27         0      0      0        0   NaN         0      1  \n",
              "\n",
              "[5 rows x 58 columns]"
            ],
            "text/html": [
              "\n",
              "  <div id=\"df-b3a601bb-927f-4539-8d5a-b42a8d31e4a9\">\n",
              "    <div class=\"colab-df-container\">\n",
              "      <div>\n",
              "<style scoped>\n",
              "    .dataframe tbody tr th:only-of-type {\n",
              "        vertical-align: middle;\n",
              "    }\n",
              "\n",
              "    .dataframe tbody tr th {\n",
              "        vertical-align: top;\n",
              "    }\n",
              "\n",
              "    .dataframe thead th {\n",
              "        text-align: right;\n",
              "    }\n",
              "</style>\n",
              "<table border=\"1\" class=\"dataframe\">\n",
              "  <thead>\n",
              "    <tr style=\"text-align: right;\">\n",
              "      <th></th>\n",
              "      <th>Burrito</th>\n",
              "      <th>Yelp</th>\n",
              "      <th>Google</th>\n",
              "      <th>Chips</th>\n",
              "      <th>Cost</th>\n",
              "      <th>Hunger</th>\n",
              "      <th>Mass (g)</th>\n",
              "      <th>Density (g/mL)</th>\n",
              "      <th>Length</th>\n",
              "      <th>Circum</th>\n",
              "      <th>...</th>\n",
              "      <th>Nopales</th>\n",
              "      <th>Lobster</th>\n",
              "      <th>Egg</th>\n",
              "      <th>Mushroom</th>\n",
              "      <th>Bacon</th>\n",
              "      <th>Sushi</th>\n",
              "      <th>Avocado</th>\n",
              "      <th>Corn</th>\n",
              "      <th>Zucchini</th>\n",
              "      <th>Great</th>\n",
              "    </tr>\n",
              "    <tr>\n",
              "      <th>Date</th>\n",
              "      <th></th>\n",
              "      <th></th>\n",
              "      <th></th>\n",
              "      <th></th>\n",
              "      <th></th>\n",
              "      <th></th>\n",
              "      <th></th>\n",
              "      <th></th>\n",
              "      <th></th>\n",
              "      <th></th>\n",
              "      <th></th>\n",
              "      <th></th>\n",
              "      <th></th>\n",
              "      <th></th>\n",
              "      <th></th>\n",
              "      <th></th>\n",
              "      <th></th>\n",
              "      <th></th>\n",
              "      <th></th>\n",
              "      <th></th>\n",
              "      <th></th>\n",
              "    </tr>\n",
              "  </thead>\n",
              "  <tbody>\n",
              "    <tr>\n",
              "      <th>2016-01-18</th>\n",
              "      <td>California</td>\n",
              "      <td>3.5</td>\n",
              "      <td>4.2</td>\n",
              "      <td>0</td>\n",
              "      <td>6.49</td>\n",
              "      <td>3.0</td>\n",
              "      <td>NaN</td>\n",
              "      <td>NaN</td>\n",
              "      <td>NaN</td>\n",
              "      <td>NaN</td>\n",
              "      <td>...</td>\n",
              "      <td>0</td>\n",
              "      <td>0</td>\n",
              "      <td>0</td>\n",
              "      <td>0</td>\n",
              "      <td>0</td>\n",
              "      <td>0</td>\n",
              "      <td>0</td>\n",
              "      <td>NaN</td>\n",
              "      <td>0</td>\n",
              "      <td>0</td>\n",
              "    </tr>\n",
              "    <tr>\n",
              "      <th>2016-01-24</th>\n",
              "      <td>California</td>\n",
              "      <td>3.5</td>\n",
              "      <td>3.3</td>\n",
              "      <td>0</td>\n",
              "      <td>5.45</td>\n",
              "      <td>3.5</td>\n",
              "      <td>NaN</td>\n",
              "      <td>NaN</td>\n",
              "      <td>NaN</td>\n",
              "      <td>NaN</td>\n",
              "      <td>...</td>\n",
              "      <td>0</td>\n",
              "      <td>0</td>\n",
              "      <td>0</td>\n",
              "      <td>0</td>\n",
              "      <td>0</td>\n",
              "      <td>0</td>\n",
              "      <td>0</td>\n",
              "      <td>NaN</td>\n",
              "      <td>0</td>\n",
              "      <td>0</td>\n",
              "    </tr>\n",
              "    <tr>\n",
              "      <th>2016-01-24</th>\n",
              "      <td>Carnitas</td>\n",
              "      <td>NaN</td>\n",
              "      <td>NaN</td>\n",
              "      <td>0</td>\n",
              "      <td>4.85</td>\n",
              "      <td>1.5</td>\n",
              "      <td>NaN</td>\n",
              "      <td>NaN</td>\n",
              "      <td>NaN</td>\n",
              "      <td>NaN</td>\n",
              "      <td>...</td>\n",
              "      <td>0</td>\n",
              "      <td>0</td>\n",
              "      <td>0</td>\n",
              "      <td>0</td>\n",
              "      <td>0</td>\n",
              "      <td>0</td>\n",
              "      <td>0</td>\n",
              "      <td>NaN</td>\n",
              "      <td>0</td>\n",
              "      <td>0</td>\n",
              "    </tr>\n",
              "    <tr>\n",
              "      <th>2016-01-24</th>\n",
              "      <td>Carne asada</td>\n",
              "      <td>NaN</td>\n",
              "      <td>NaN</td>\n",
              "      <td>0</td>\n",
              "      <td>5.25</td>\n",
              "      <td>2.0</td>\n",
              "      <td>NaN</td>\n",
              "      <td>NaN</td>\n",
              "      <td>NaN</td>\n",
              "      <td>NaN</td>\n",
              "      <td>...</td>\n",
              "      <td>0</td>\n",
              "      <td>0</td>\n",
              "      <td>0</td>\n",
              "      <td>0</td>\n",
              "      <td>0</td>\n",
              "      <td>0</td>\n",
              "      <td>0</td>\n",
              "      <td>NaN</td>\n",
              "      <td>0</td>\n",
              "      <td>0</td>\n",
              "    </tr>\n",
              "    <tr>\n",
              "      <th>2016-01-27</th>\n",
              "      <td>California</td>\n",
              "      <td>4.0</td>\n",
              "      <td>3.8</td>\n",
              "      <td>1</td>\n",
              "      <td>6.59</td>\n",
              "      <td>4.0</td>\n",
              "      <td>NaN</td>\n",
              "      <td>NaN</td>\n",
              "      <td>NaN</td>\n",
              "      <td>NaN</td>\n",
              "      <td>...</td>\n",
              "      <td>0</td>\n",
              "      <td>0</td>\n",
              "      <td>0</td>\n",
              "      <td>0</td>\n",
              "      <td>0</td>\n",
              "      <td>0</td>\n",
              "      <td>0</td>\n",
              "      <td>NaN</td>\n",
              "      <td>0</td>\n",
              "      <td>1</td>\n",
              "    </tr>\n",
              "  </tbody>\n",
              "</table>\n",
              "<p>5 rows × 58 columns</p>\n",
              "</div>\n",
              "      <button class=\"colab-df-convert\" onclick=\"convertToInteractive('df-b3a601bb-927f-4539-8d5a-b42a8d31e4a9')\"\n",
              "              title=\"Convert this dataframe to an interactive table.\"\n",
              "              style=\"display:none;\">\n",
              "        \n",
              "  <svg xmlns=\"http://www.w3.org/2000/svg\" height=\"24px\"viewBox=\"0 0 24 24\"\n",
              "       width=\"24px\">\n",
              "    <path d=\"M0 0h24v24H0V0z\" fill=\"none\"/>\n",
              "    <path d=\"M18.56 5.44l.94 2.06.94-2.06 2.06-.94-2.06-.94-.94-2.06-.94 2.06-2.06.94zm-11 1L8.5 8.5l.94-2.06 2.06-.94-2.06-.94L8.5 2.5l-.94 2.06-2.06.94zm10 10l.94 2.06.94-2.06 2.06-.94-2.06-.94-.94-2.06-.94 2.06-2.06.94z\"/><path d=\"M17.41 7.96l-1.37-1.37c-.4-.4-.92-.59-1.43-.59-.52 0-1.04.2-1.43.59L10.3 9.45l-7.72 7.72c-.78.78-.78 2.05 0 2.83L4 21.41c.39.39.9.59 1.41.59.51 0 1.02-.2 1.41-.59l7.78-7.78 2.81-2.81c.8-.78.8-2.07 0-2.86zM5.41 20L4 18.59l7.72-7.72 1.47 1.35L5.41 20z\"/>\n",
              "  </svg>\n",
              "      </button>\n",
              "      \n",
              "  <style>\n",
              "    .colab-df-container {\n",
              "      display:flex;\n",
              "      flex-wrap:wrap;\n",
              "      gap: 12px;\n",
              "    }\n",
              "\n",
              "    .colab-df-convert {\n",
              "      background-color: #E8F0FE;\n",
              "      border: none;\n",
              "      border-radius: 50%;\n",
              "      cursor: pointer;\n",
              "      display: none;\n",
              "      fill: #1967D2;\n",
              "      height: 32px;\n",
              "      padding: 0 0 0 0;\n",
              "      width: 32px;\n",
              "    }\n",
              "\n",
              "    .colab-df-convert:hover {\n",
              "      background-color: #E2EBFA;\n",
              "      box-shadow: 0px 1px 2px rgba(60, 64, 67, 0.3), 0px 1px 3px 1px rgba(60, 64, 67, 0.15);\n",
              "      fill: #174EA6;\n",
              "    }\n",
              "\n",
              "    [theme=dark] .colab-df-convert {\n",
              "      background-color: #3B4455;\n",
              "      fill: #D2E3FC;\n",
              "    }\n",
              "\n",
              "    [theme=dark] .colab-df-convert:hover {\n",
              "      background-color: #434B5C;\n",
              "      box-shadow: 0px 1px 3px 1px rgba(0, 0, 0, 0.15);\n",
              "      filter: drop-shadow(0px 1px 2px rgba(0, 0, 0, 0.3));\n",
              "      fill: #FFFFFF;\n",
              "    }\n",
              "  </style>\n",
              "\n",
              "      <script>\n",
              "        const buttonEl =\n",
              "          document.querySelector('#df-b3a601bb-927f-4539-8d5a-b42a8d31e4a9 button.colab-df-convert');\n",
              "        buttonEl.style.display =\n",
              "          google.colab.kernel.accessAllowed ? 'block' : 'none';\n",
              "\n",
              "        async function convertToInteractive(key) {\n",
              "          const element = document.querySelector('#df-b3a601bb-927f-4539-8d5a-b42a8d31e4a9');\n",
              "          const dataTable =\n",
              "            await google.colab.kernel.invokeFunction('convertToInteractive',\n",
              "                                                     [key], {});\n",
              "          if (!dataTable) return;\n",
              "\n",
              "          const docLinkHtml = 'Like what you see? Visit the ' +\n",
              "            '<a target=\"_blank\" href=https://colab.research.google.com/notebooks/data_table.ipynb>data table notebook</a>'\n",
              "            + ' to learn more about interactive tables.';\n",
              "          element.innerHTML = '';\n",
              "          dataTable['output_type'] = 'display_data';\n",
              "          await google.colab.output.renderOutput(dataTable, element);\n",
              "          const docLink = document.createElement('div');\n",
              "          docLink.innerHTML = docLinkHtml;\n",
              "          element.appendChild(docLink);\n",
              "        }\n",
              "      </script>\n",
              "    </div>\n",
              "  </div>\n",
              "  "
            ]
          },
          "metadata": {},
          "execution_count": 74
        }
      ],
      "source": [
        "# Conduct your exploratory data analysis here\n",
        "# And modify the `wrangle` function above.\n",
        "df.head()"
      ]
    },
    {
      "cell_type": "code",
      "source": [
        "df.info()"
      ],
      "metadata": {
        "colab": {
          "base_uri": "https://localhost:8080/"
        },
        "id": "2Mdk4kHLplmX",
        "outputId": "aa1d59b0-a7bf-4ddc-a16b-7c9f5e2dd5d4"
      },
      "execution_count": null,
      "outputs": [
        {
          "output_type": "stream",
          "name": "stdout",
          "text": [
            "<class 'pandas.core.frame.DataFrame'>\n",
            "DatetimeIndex: 421 entries, 2011-05-16 to 2026-04-25\n",
            "Data columns (total 61 columns):\n",
            " #   Column          Non-Null Count  Dtype  \n",
            "---  ------          --------------  -----  \n",
            " 0   Yelp            87 non-null     float64\n",
            " 1   Google          87 non-null     float64\n",
            " 2   Chips           421 non-null    int64  \n",
            " 3   Cost            414 non-null    float64\n",
            " 4   Hunger          418 non-null    float64\n",
            " 5   Mass (g)        22 non-null     float64\n",
            " 6   Density (g/mL)  22 non-null     float64\n",
            " 7   Length          283 non-null    float64\n",
            " 8   Circum          281 non-null    float64\n",
            " 9   Volume          281 non-null    float64\n",
            " 10  Tortilla        421 non-null    float64\n",
            " 11  Temp            401 non-null    float64\n",
            " 12  Meat            407 non-null    float64\n",
            " 13  Fillings        418 non-null    float64\n",
            " 14  Meat:filling    412 non-null    float64\n",
            " 15  Uniformity      419 non-null    float64\n",
            " 16  Salsa           396 non-null    float64\n",
            " 17  Synergy         419 non-null    float64\n",
            " 18  Wrap            418 non-null    float64\n",
            " 19  Reviewer        420 non-null    object \n",
            " 20  Unreliable      421 non-null    int64  \n",
            " 21  NonSD           421 non-null    int64  \n",
            " 22  Beef            421 non-null    int64  \n",
            " 23  Pico            421 non-null    int64  \n",
            " 24  Guac            421 non-null    int64  \n",
            " 25  Cheese          421 non-null    int64  \n",
            " 26  Fries           421 non-null    int64  \n",
            " 27  Sour cream      421 non-null    int64  \n",
            " 28  Pork            421 non-null    int64  \n",
            " 29  Chicken         421 non-null    int64  \n",
            " 30  Shrimp          421 non-null    int64  \n",
            " 31  Fish            421 non-null    int64  \n",
            " 32  Rice            421 non-null    int64  \n",
            " 33  Beans           421 non-null    int64  \n",
            " 34  Lettuce         421 non-null    int64  \n",
            " 35  Tomato          421 non-null    int64  \n",
            " 36  Bell peper      421 non-null    int64  \n",
            " 37  Carrots         421 non-null    int64  \n",
            " 38  Cabbage         421 non-null    int64  \n",
            " 39  Sauce           421 non-null    int64  \n",
            " 40  Salsa.1         421 non-null    int64  \n",
            " 41  Cilantro        421 non-null    int64  \n",
            " 42  Onion           421 non-null    int64  \n",
            " 43  Taquito         421 non-null    int64  \n",
            " 44  Pineapple       421 non-null    int64  \n",
            " 45  Ham             421 non-null    int64  \n",
            " 46  Chile relleno   421 non-null    int64  \n",
            " 47  Nopales         421 non-null    int64  \n",
            " 48  Lobster         421 non-null    int64  \n",
            " 49  Egg             421 non-null    int64  \n",
            " 50  Mushroom        421 non-null    int64  \n",
            " 51  Bacon           421 non-null    int64  \n",
            " 52  Sushi           421 non-null    int64  \n",
            " 53  Avocado         421 non-null    int64  \n",
            " 54  Corn            421 non-null    int64  \n",
            " 55  Zucchini        421 non-null    int64  \n",
            " 56  Great           421 non-null    int64  \n",
            " 57  b_california    421 non-null    int64  \n",
            " 58  b_asada         421 non-null    int64  \n",
            " 59  b_surf          421 non-null    int64  \n",
            " 60  b_carnitas      421 non-null    int64  \n",
            "dtypes: float64(18), int64(42), object(1)\n",
            "memory usage: 203.9+ KB\n"
          ]
        }
      ]
    },
    {
      "cell_type": "code",
      "source": [
        "df.nunique()"
      ],
      "metadata": {
        "colab": {
          "base_uri": "https://localhost:8080/"
        },
        "id": "-W3QJ3mU0qZ_",
        "outputId": "e233f499-0ec6-467c-991a-4872b10a3b12"
      },
      "execution_count": null,
      "outputs": [
        {
          "output_type": "execute_result",
          "data": {
            "text/plain": [
              "Burrito           132\n",
              "Yelp                6\n",
              "Google             18\n",
              "Chips               2\n",
              "Cost               98\n",
              "Hunger             25\n",
              "Mass (g)           18\n",
              "Density (g/mL)     21\n",
              "Length             29\n",
              "Circum             30\n",
              "Volume             64\n",
              "Tortilla           18\n",
              "Temp               18\n",
              "Meat               23\n",
              "Fillings           22\n",
              "Meat:filling       25\n",
              "Uniformity         28\n",
              "Salsa              27\n",
              "Synergy            27\n",
              "Wrap               23\n",
              "Reviewer          106\n",
              "Unreliable          2\n",
              "NonSD               2\n",
              "Beef                2\n",
              "Pico                2\n",
              "Guac                2\n",
              "Cheese              2\n",
              "Fries               2\n",
              "Sour cream          2\n",
              "Pork                2\n",
              "Chicken             2\n",
              "Shrimp              2\n",
              "Fish                2\n",
              "Rice                2\n",
              "Beans               2\n",
              "Lettuce             2\n",
              "Tomato              2\n",
              "Bell peper          2\n",
              "Carrots             2\n",
              "Cabbage             2\n",
              "Sauce               2\n",
              "Salsa.1             2\n",
              "Cilantro            2\n",
              "Onion               2\n",
              "Taquito             2\n",
              "Pineapple           2\n",
              "Ham                 2\n",
              "Chile relleno       2\n",
              "Nopales             2\n",
              "Lobster             2\n",
              "Egg                 2\n",
              "Mushroom            2\n",
              "Bacon               2\n",
              "Sushi               2\n",
              "Avocado             2\n",
              "Corn                2\n",
              "Zucchini            2\n",
              "Great               2\n",
              "dtype: int64"
            ]
          },
          "metadata": {},
          "execution_count": 91
        }
      ]
    },
    {
      "cell_type": "code",
      "source": [
        "df.nunique()"
      ],
      "metadata": {
        "colab": {
          "base_uri": "https://localhost:8080/"
        },
        "id": "vIValFEbuTpK",
        "outputId": "3b728901-0e0e-4867-ca73-1dd664d1711c"
      },
      "execution_count": null,
      "outputs": [
        {
          "output_type": "execute_result",
          "data": {
            "text/plain": [
              "Burrito           132\n",
              "Yelp                6\n",
              "Google             18\n",
              "Chips               2\n",
              "Cost               98\n",
              "Hunger             25\n",
              "Mass (g)           18\n",
              "Density (g/mL)     21\n",
              "Length             29\n",
              "Circum             30\n",
              "Volume             64\n",
              "Tortilla           18\n",
              "Temp               18\n",
              "Meat               23\n",
              "Fillings           22\n",
              "Meat:filling       25\n",
              "Uniformity         28\n",
              "Salsa              27\n",
              "Synergy            27\n",
              "Wrap               23\n",
              "Reviewer          106\n",
              "Unreliable          2\n",
              "NonSD               2\n",
              "Beef                2\n",
              "Pico                2\n",
              "Guac                2\n",
              "Cheese              2\n",
              "Fries               2\n",
              "Sour cream          2\n",
              "Pork                2\n",
              "Chicken             2\n",
              "Shrimp              2\n",
              "Fish                2\n",
              "Rice                2\n",
              "Beans               2\n",
              "Lettuce             2\n",
              "Tomato              2\n",
              "Bell peper          2\n",
              "Carrots             2\n",
              "Cabbage             2\n",
              "Sauce               2\n",
              "Salsa.1             2\n",
              "Cilantro            2\n",
              "Onion               2\n",
              "Taquito             2\n",
              "Pineapple           2\n",
              "Ham                 2\n",
              "Chile relleno       2\n",
              "Nopales             2\n",
              "Lobster             2\n",
              "Egg                 2\n",
              "Mushroom            2\n",
              "Bacon               2\n",
              "Sushi               2\n",
              "Avocado             2\n",
              "Corn                2\n",
              "Zucchini            2\n",
              "Great               2\n",
              "dtype: int64"
            ]
          },
          "metadata": {},
          "execution_count": 88
        }
      ]
    },
    {
      "cell_type": "markdown",
      "metadata": {
        "id": "E3P_zTC0ojFr"
      },
      "source": [
        "If you explore the `'Burrito'` column of `df`, you'll notice that it's a high-cardinality categorical feature. You'll also notice that there's a lot of overlap between the categories. \n",
        "\n",
        "**Stretch Goal:** Change the `wrangle` function above so that it engineers four new features: `'california'`, `'asada'`, `'surf'`, and `'carnitas'`. Each row should have a `1` or `0` based on the text information in the `'Burrito'` column. For example, here's how the first 5 rows of the dataset would look.\n",
        "\n",
        "| **Burrito** | **california** | **asada** | **surf** | **carnitas** |\n",
        "| :---------- | :------------: | :-------: | :------: | :----------: |\n",
        "| California  |       1        |     0     |    0     |      0       |\n",
        "| California  |       1        |     0     |    0     |      0       |\n",
        "|  Carnitas   |       0        |     0     |    0     |      1       |\n",
        "| Carne asada |       0        |     1     |    0     |      0       |\n",
        "| California  |       1        |     0     |    0     |      0       |\n",
        "\n",
        "**Note:** Be sure to also drop the `'Burrito'` once you've engineered your new features."
      ]
    },
    {
      "cell_type": "code",
      "execution_count": null,
      "metadata": {
        "id": "AF1OaihjojFr"
      },
      "outputs": [],
      "source": [
        "# Conduct your exploratory data analysis here\n",
        "# And modify the `wrangle` function above."
      ]
    },
    {
      "cell_type": "markdown",
      "metadata": {
        "id": "qUJWXz0wojFr"
      },
      "source": [
        "# II. Split Data\n",
        "\n",
        "**Task 3:** Split your dataset into the feature matrix `X` and the target vector `y`. You want to predict `'Great'`."
      ]
    },
    {
      "cell_type": "code",
      "execution_count": null,
      "metadata": {
        "id": "0cEVVSF5ojFs"
      },
      "outputs": [],
      "source": [
        "target = 'Great'\n",
        "X = df.drop(columns=target)\n",
        "y = df[target]"
      ]
    },
    {
      "cell_type": "markdown",
      "metadata": {
        "id": "a6VyT1eEojFs"
      },
      "source": [
        "**Task 4:** Split `X` and `y` into a training set (`X_train`, `y_train`) and a test set (`X_test`, `y_test`).\n",
        "\n",
        "- Your training set should include data from 2016 through 2017. \n",
        "- Your test set should include data from 2018 and later."
      ]
    },
    {
      "cell_type": "code",
      "source": [
        "#Check date ranges\n",
        "df.index.max(), df.index.min()"
      ],
      "metadata": {
        "colab": {
          "base_uri": "https://localhost:8080/"
        },
        "id": "I9xdEgZl099n",
        "outputId": "4be1b0c8-e8a7-4fda-f8aa-5ed42fea1306"
      },
      "execution_count": null,
      "outputs": [
        {
          "output_type": "execute_result",
          "data": {
            "text/plain": [
              "(Timestamp('2026-04-25 00:00:00'), Timestamp('2011-05-16 00:00:00'))"
            ]
          },
          "metadata": {},
          "execution_count": 121
        }
      ]
    },
    {
      "cell_type": "code",
      "execution_count": null,
      "metadata": {
        "id": "YXp5MlnxojFs",
        "colab": {
          "base_uri": "https://localhost:8080/"
        },
        "outputId": "e6ee137a-40e3-4f05-ab5b-0632a7a37d52"
      },
      "outputs": [
        {
          "output_type": "stream",
          "name": "stdout",
          "text": [
            "(381, 60) (381,)\n",
            "(38, 60) (38,)\n"
          ]
        }
      ],
      "source": [
        "mask_train = (X.index > '2016') & (X.index < '2018')\n",
        "mask_test = (X.index >= '2018')\n",
        "\n",
        "X_train, y_train = X[mask_train], y[mask_train]\n",
        "X_test, y_test = X[mask_test], y[mask_test]\n",
        "\n",
        "print(X_train.shape, y_train.shape)\n",
        "print(X_test.shape, y_test.shape)"
      ]
    },
    {
      "cell_type": "markdown",
      "metadata": {
        "id": "awgbep5XojFs"
      },
      "source": [
        "# III. Establish Baseline\n",
        "\n",
        "**Task 5:** Since this is a **classification** problem, you should establish a baseline accuracy score. Figure out what is the majority class in `y_train` and what percentage of your training observations it represents. "
      ]
    },
    {
      "cell_type": "code",
      "execution_count": null,
      "metadata": {
        "id": "YHozAGt5ojFs",
        "colab": {
          "base_uri": "https://localhost:8080/"
        },
        "outputId": "dac578a5-895f-4105-d136-68d950694994"
      },
      "outputs": [
        {
          "output_type": "stream",
          "name": "stdout",
          "text": [
            "Baseline Accuracy Score: 0.5826771653543307\n"
          ]
        }
      ],
      "source": [
        "baseline_acc = y_train.value_counts(normalize=True).max()\n",
        "print('Baseline Accuracy Score:', baseline_acc)"
      ]
    },
    {
      "cell_type": "markdown",
      "metadata": {
        "id": "ojlA0SeLojFs"
      },
      "source": [
        "# IV. Build Model\n",
        "\n",
        "**Task 6:** Build a `Pipeline` named `model_logr`, and fit it to your training data. Your pipeline should include:\n",
        "\n",
        "- a `OneHotEncoder` transformer for categorical features, \n",
        "- a `SimpleImputer` transformer to deal with missing values, \n",
        "- a [`StandarScaler`](https://scikit-learn.org/stable/modules/generated/sklearn.preprocessing.StandardScaler.html) transfomer (which often improves performance in a logistic regression model), and \n",
        "- a `LogisticRegression` predictor."
      ]
    },
    {
      "cell_type": "code",
      "source": [
        "#Impute vs encoding 1st/second for categorical columns:\n",
        "\n",
        "#Impute first with mode -> encode -> no NaN\n",
        "  #useful if classes are known to be from an EXACT set\n",
        "\n",
        "#Encode first -> NaN becomes its own 'category', all sub features are 0\n",
        "  #useful if EXACT set of classes are not known, then NaN is its own category"
      ],
      "metadata": {
        "id": "W3L94wKz5r5w"
      },
      "execution_count": null,
      "outputs": []
    },
    {
      "cell_type": "code",
      "execution_count": null,
      "metadata": {
        "id": "s1eLEr8wojFt",
        "colab": {
          "base_uri": "https://localhost:8080/"
        },
        "outputId": "87468d90-e6ec-4efa-b2b9-103c9580dc97"
      },
      "outputs": [
        {
          "output_type": "execute_result",
          "data": {
            "text/plain": [
              "Pipeline(steps=[('onehotencoder',\n",
              "                 OneHotEncoder(cols=['Reviewer'], use_cat_names=True)),\n",
              "                ('simpleimputer', SimpleImputer()),\n",
              "                ('standardscaler', StandardScaler()),\n",
              "                ('logisticregression', LogisticRegression())])"
            ]
          },
          "metadata": {},
          "execution_count": 135
        }
      ],
      "source": [
        "model_logr = make_pipeline(\n",
        "    OneHotEncoder(use_cat_names=True),\n",
        "    SimpleImputer(strategy='mean'), #Imputes over every column of the data, including object type. #HOWEVER since we encoded first, there will be no NaN values\n",
        "    StandardScaler(),\n",
        "    LogisticRegression()\n",
        ")\n",
        "\n",
        "model_logr.fit(X_train, y_train)"
      ]
    },
    {
      "cell_type": "code",
      "source": [
        "#useful pipeline attributes\n",
        "\n",
        "model_logr.named_steps\n",
        "\n",
        "#examples\n",
        "\n",
        "# model_logr.named_steps['onehotencoder'].get_feature_names()"
      ],
      "metadata": {
        "colab": {
          "base_uri": "https://localhost:8080/"
        },
        "id": "9CUkDJqb65xE",
        "outputId": "9f981fc5-077a-4d61-9ca3-18d6d0837f50"
      },
      "execution_count": null,
      "outputs": [
        {
          "output_type": "execute_result",
          "data": {
            "text/plain": [
              "['Yelp',\n",
              " 'Google',\n",
              " 'Chips',\n",
              " 'Cost',\n",
              " 'Hunger',\n",
              " 'Mass (g)',\n",
              " 'Density (g/mL)',\n",
              " 'Length',\n",
              " 'Circum',\n",
              " 'Volume',\n",
              " 'Tortilla',\n",
              " 'Temp',\n",
              " 'Meat',\n",
              " 'Fillings',\n",
              " 'Meat:filling',\n",
              " 'Uniformity',\n",
              " 'Salsa',\n",
              " 'Synergy',\n",
              " 'Wrap',\n",
              " 'Reviewer_Scott',\n",
              " 'Reviewer_Ricardo',\n",
              " 'Reviewer_Emily',\n",
              " 'Reviewer_Marc',\n",
              " 'Reviewer_Nicole',\n",
              " 'Reviewer_Cris',\n",
              " 'Reviewer_Leo',\n",
              " 'Reviewer_Sage',\n",
              " 'Reviewer_Eli',\n",
              " 'Reviewer_Kelsey',\n",
              " 'Reviewer_Jake',\n",
              " 'Reviewer_Torben',\n",
              " 'Reviewer_Alex',\n",
              " 'Reviewer_Richard',\n",
              " 'Reviewer_Tom',\n",
              " 'Reviewer_Brad',\n",
              " 'Reviewer_Tara',\n",
              " 'Reviewer_Andy',\n",
              " 'Reviewer_Bankole',\n",
              " 'Reviewer_Erin',\n",
              " 'Reviewer_Luis',\n",
              " 'Reviewer_Karl',\n",
              " 'Reviewer_Kalen',\n",
              " 'Reviewer_Brent',\n",
              " 'Reviewer_Chuck K',\n",
              " 'Reviewer_Elynn',\n",
              " 'Reviewer_Sandra',\n",
              " 'Reviewer_Sankeerth',\n",
              " 'Reviewer_Katie',\n",
              " 'Reviewer_Matteo',\n",
              " 'Reviewer_Aga',\n",
              " 'Reviewer_Sai G',\n",
              " 'Reviewer_Laya',\n",
              " 'Reviewer_nan',\n",
              " 'Reviewer_Damien B',\n",
              " 'Reviewer_Sarah',\n",
              " 'Reviewer_Jonathan G',\n",
              " 'Reviewer_Brittany T',\n",
              " 'Reviewer_Kevin',\n",
              " 'Reviewer_Gurkirat S',\n",
              " 'Reviewer_Erika N',\n",
              " 'Reviewer_Dan',\n",
              " 'Reviewer_Logan',\n",
              " 'Reviewer_Chris H',\n",
              " 'Reviewer_Brian',\n",
              " 'Reviewer_Rob',\n",
              " 'Reviewer_Brad P',\n",
              " 'Reviewer_Sam H',\n",
              " 'Reviewer_Christian',\n",
              " 'Reviewer_Matt',\n",
              " 'Reviewer_Alejandro',\n",
              " 'Reviewer_Daniel',\n",
              " 'Reviewer_TJ',\n",
              " 'Reviewer_Meghan',\n",
              " 'Reviewer_Devleena',\n",
              " 'Reviewer_Sam A',\n",
              " 'Reviewer_Aaron S',\n",
              " 'Reviewer_Jaeyoung',\n",
              " 'Reviewer_Rob G',\n",
              " 'Reviewer_Javier',\n",
              " 'Reviewer_Erik',\n",
              " 'Reviewer_Sankha G',\n",
              " 'Reviewer_Hannah',\n",
              " 'Reviewer_Melissa N',\n",
              " 'Reviewer_Tammy',\n",
              " 'Reviewer_Melissa G',\n",
              " 'Reviewer_Ashley G',\n",
              " 'Reviewer_Mike',\n",
              " 'Reviewer_Benni',\n",
              " 'Reviewer_Scott ',\n",
              " 'Reviewer_Jeremy',\n",
              " 'Reviewer_Shijia',\n",
              " 'Reviewer_Ant',\n",
              " 'Reviewer_@danjlurie',\n",
              " 'Reviewer_@synapticlee',\n",
              " 'Reviewer_Shreejoy',\n",
              " 'Reviewer_Justin K',\n",
              " 'Reviewer_Rob L',\n",
              " 'Reviewer_Ricardo ',\n",
              " 'Reviewer_Nihal',\n",
              " 'Reviewer_Audrey L',\n",
              " 'Reviewer_Spencer',\n",
              " 'Reviewer_Justin C',\n",
              " 'Reviewer_Clark',\n",
              " 'Reviewer_Chris G',\n",
              " 'Reviewer_Erik K',\n",
              " 'Reviewer_Xi',\n",
              " 'Reviewer_Simon',\n",
              " 'Reviewer_Daniel A',\n",
              " 'Reviewer_Nuttida',\n",
              " 'Reviewer_Ben S',\n",
              " 'Unreliable',\n",
              " 'NonSD',\n",
              " 'Beef',\n",
              " 'Pico',\n",
              " 'Guac',\n",
              " 'Cheese',\n",
              " 'Fries',\n",
              " 'Sour cream',\n",
              " 'Pork',\n",
              " 'Chicken',\n",
              " 'Shrimp',\n",
              " 'Fish',\n",
              " 'Rice',\n",
              " 'Beans',\n",
              " 'Lettuce',\n",
              " 'Tomato',\n",
              " 'Bell peper',\n",
              " 'Carrots',\n",
              " 'Cabbage',\n",
              " 'Sauce',\n",
              " 'Salsa.1',\n",
              " 'Cilantro',\n",
              " 'Onion',\n",
              " 'Taquito',\n",
              " 'Pineapple',\n",
              " 'Ham',\n",
              " 'Chile relleno',\n",
              " 'Nopales',\n",
              " 'Lobster',\n",
              " 'Egg',\n",
              " 'Mushroom',\n",
              " 'Bacon',\n",
              " 'Sushi',\n",
              " 'Avocado',\n",
              " 'Corn',\n",
              " 'Zucchini',\n",
              " 'b_california',\n",
              " 'b_asada',\n",
              " 'b_surf',\n",
              " 'b_carnitas']"
            ]
          },
          "metadata": {},
          "execution_count": 139
        }
      ]
    },
    {
      "cell_type": "markdown",
      "metadata": {
        "id": "_vg-hHXSojFt"
      },
      "source": [
        "# IV. Check Metrics\n",
        "\n",
        "**Task 7:** Calculate the training and test accuracy score for `model_lr`."
      ]
    },
    {
      "cell_type": "code",
      "execution_count": null,
      "metadata": {
        "id": "TVPJWGHgojFt",
        "colab": {
          "base_uri": "https://localhost:8080/"
        },
        "outputId": "e750d714-8687-4837-86f8-986e3da1e1d6"
      },
      "outputs": [
        {
          "output_type": "stream",
          "name": "stdout",
          "text": [
            "Training MAE: 0.973753280839895\n",
            "Test MAE: 0.7894736842105263\n"
          ]
        }
      ],
      "source": [
        "training_acc = model_logr.score(X_train, y_train)\n",
        "test_acc = model_logr.score(X_test, y_test)\n",
        "\n",
        "print('Training MAE:', training_acc)\n",
        "print('Test MAE:', test_acc)"
      ]
    },
    {
      "cell_type": "markdown",
      "metadata": {
        "id": "Khf9hxcqojFt"
      },
      "source": [
        "# V. Communicate Results\n",
        "\n",
        "**Task 8:** Create a horizontal barchart that plots the 10 most important coefficients for `model_lr`, sorted by absolute value.\n",
        "\n",
        "**Note:** Since you created your model using a `Pipeline`, you'll need to use the [`named_steps`](https://scikit-learn.org/stable/modules/generated/sklearn.pipeline.Pipeline.html) attribute to access the coefficients in your `LogisticRegression` predictor. Be sure to look at the shape of the coefficients array before you combine it with the feature names."
      ]
    },
    {
      "cell_type": "code",
      "execution_count": null,
      "metadata": {
        "id": "GSn1LvzWojFt"
      },
      "outputs": [],
      "source": [
        "# Create your horizontal barchart here."
      ]
    },
    {
      "cell_type": "code",
      "source": [
        "model_logr.named_steps"
      ],
      "metadata": {
        "colab": {
          "base_uri": "https://localhost:8080/"
        },
        "id": "7Mvq1E3n7ayr",
        "outputId": "a192be08-63b9-4580-e0b2-36011b4181ea"
      },
      "execution_count": null,
      "outputs": [
        {
          "output_type": "execute_result",
          "data": {
            "text/plain": [
              "{'onehotencoder': OneHotEncoder(cols=['Reviewer'], use_cat_names=True),\n",
              " 'simpleimputer': SimpleImputer(),\n",
              " 'standardscaler': StandardScaler(),\n",
              " 'logisticregression': LogisticRegression()}"
            ]
          },
          "metadata": {},
          "execution_count": 143
        }
      ]
    },
    {
      "cell_type": "code",
      "source": [
        "logr = model_logr.named_steps['logisticregression']\n",
        "\n",
        "coefs = logr.coef_[0]\n",
        "features = model_logr.named_steps['onehotencoder'].get_feature_names()\n",
        "\n",
        "df_coefs = pd.DataFrame(coefs, index=features, columns=['coefs']).abs().sort_values(by='coefs', ascending=False).head(10)"
      ],
      "metadata": {
        "id": "zNs-rrX17eO_"
      },
      "execution_count": null,
      "outputs": []
    },
    {
      "cell_type": "code",
      "source": [
        "df_coefs.plot.barh()"
      ],
      "metadata": {
        "colab": {
          "base_uri": "https://localhost:8080/",
          "height": 283
        },
        "id": "2UytpVCW-ACs",
        "outputId": "cc4d9f08-7777-4bce-a149-b0521b7b7c48"
      },
      "execution_count": null,
      "outputs": [
        {
          "output_type": "execute_result",
          "data": {
            "text/plain": [
              "<matplotlib.axes._subplots.AxesSubplot at 0x7f244dee1cd0>"
            ]
          },
          "metadata": {},
          "execution_count": 180
        },
        {
          "output_type": "display_data",
          "data": {
            "text/plain": [
              "<Figure size 432x288 with 1 Axes>"
            ],
            "image/png": "[encoded data removed]"
          },
          "metadata": {
            "needs_background": "light"
          }
        }
      ]
    },
    {
      "cell_type": "markdown",
      "metadata": {
        "id": "HuFi-It9ojFt"
      },
      "source": [
        "There is more than one way to generate predictions with `model_lr`. For instance, you can use [`predict`](https://scikit-learn.org/stable/modules/generated/sklearn.linear_model.LogisticRegression.html?highlight=logisticregression) or [`predict_proba`](https://scikit-learn.org/stable/modules/generated/sklearn.linear_model.LogisticRegression.html?highlight=logisticregression#sklearn.linear_model.LogisticRegression.predict_proba).\n",
        "\n",
        "**Task 9:** Generate predictions for `X_test` using both `predict` and `predict_proba`. Then below, write a summary of the differences in the output for these two methods. You should answer the following questions:\n",
        "\n",
        "- What data type do `predict` and `predict_proba` output?\n",
        "- What are the shapes of their different output?\n",
        "- What numerical values are in the output?\n",
        "- What do those numerical values represent?"
      ]
    },
    {
      "cell_type": "code",
      "execution_count": null,
      "metadata": {
        "id": "T3_IqT8hojFu",
        "colab": {
          "base_uri": "https://localhost:8080/"
        },
        "outputId": "2aac6ba0-2cc8-49b9-efc5-473a189ae1c8"
      },
      "outputs": [
        {
          "output_type": "stream",
          "name": "stdout",
          "text": [
            "[1 0 0 1 0 1 1 1 1 0 0 1 1 1 1 1 0 0 0 0 1 0 1 1 0 0 1 1 1 1 0 1 1 0 1 1 1\n",
            " 1]\n",
            "[[1.10682572e-03 9.98893174e-01]\n",
            " [9.51586832e-01 4.84131682e-02]\n",
            " [9.99610621e-01 3.89379172e-04]\n",
            " [3.74257841e-05 9.99962574e-01]\n",
            " [9.71756512e-01 2.82434884e-02]\n",
            " [5.60443003e-05 9.99943956e-01]\n",
            " [4.90264353e-05 9.99950974e-01]\n",
            " [1.52224059e-02 9.84777594e-01]\n",
            " [1.70132741e-01 8.29867259e-01]\n",
            " [7.68875713e-01 2.31124287e-01]\n",
            " [9.72482937e-01 2.75170632e-02]\n",
            " [3.65854676e-01 6.34145324e-01]\n",
            " [3.39443023e-01 6.60556977e-01]\n",
            " [1.79114946e-02 9.82088505e-01]\n",
            " [2.70245821e-02 9.72975418e-01]\n",
            " [4.76152420e-02 9.52384758e-01]\n",
            " [9.97360370e-01 2.63962984e-03]\n",
            " [9.98656547e-01 1.34345338e-03]\n",
            " [9.99593370e-01 4.06630024e-04]\n",
            " [9.97538125e-01 2.46187539e-03]\n",
            " [4.93093423e-03 9.95069066e-01]\n",
            " [9.57645229e-01 4.23547710e-02]\n",
            " [4.23825591e-02 9.57617441e-01]\n",
            " [4.00241253e-01 5.99758747e-01]\n",
            " [9.34447510e-01 6.55524895e-02]\n",
            " [9.97485865e-01 2.51413545e-03]\n",
            " [1.64321850e-05 9.99983568e-01]\n",
            " [5.34635738e-02 9.46536426e-01]\n",
            " [3.64276834e-01 6.35723166e-01]\n",
            " [2.26692292e-01 7.73307708e-01]\n",
            " [9.98323495e-01 1.67650456e-03]\n",
            " [3.47128467e-03 9.96528715e-01]\n",
            " [6.28277649e-05 9.99937172e-01]\n",
            " [9.85382532e-01 1.46174679e-02]\n",
            " [2.35678771e-03 9.97643212e-01]\n",
            " [1.66808732e-01 8.33191268e-01]\n",
            " [1.01219413e-02 9.89878059e-01]\n",
            " [1.17395562e-05 9.99988260e-01]]\n"
          ]
        }
      ],
      "source": [
        "# Write code here to explore the differences between `predict` and `predict_proba`.\n",
        "y_predict_class = model_logr.predict(X_test)\n",
        "print(y_predict_class)\n",
        "\n",
        "y_predict_proba = model_logr.predict_proba(X_test)\n",
        "print(y_predict_proba)"
      ]
    },
    {
      "cell_type": "markdown",
      "metadata": {
        "id": "eo7ItHoFojFu"
      },
      "source": [
        "**Give your written answer here:**\n",
        "\n",
        "```\n",
        "The predict method outputs the predicted class only and the shape is equal to y_test. The predict_proba method outputs the probability for each class. In this case, its output is in the shape of (y_test, N classes)\n",
        "\n",
        "```"
      ]
    }
  ],
  "metadata": {
    "colab": {
      "provenance": []
    },
    "kernelspec": {
      "display_name": "Python 3",
      "language": "python",
      "name": "python3"
    },
    "language_info": {
      "codemirror_mode": {
        "name": "ipython",
        "version": 3
      },
      "file_extension": ".py",
      "mimetype": "text/x-python",
      "name": "python",
      "nbconvert_exporter": "python",
      "pygments_lexer": "ipython3",
      "version": "3.8.5"
    }
  },
  "nbformat": 4,
  "nbformat_minor": 0
}