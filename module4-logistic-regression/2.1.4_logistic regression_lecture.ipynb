{
  "nbformat": 4,
  "nbformat_minor": 0,
  "metadata": {
    "colab": {
      "name": "214_guided-project-notes.ipynb",
      "provenance": [],
      "collapsed_sections": []
    },
    "kernelspec": {
      "name": "python3",
      "display_name": "Python 3"
    }
  },
  "cells": [
    {
      "cell_type": "markdown",
      "metadata": {
        "id": "ff_NZhdHCvfc"
      },
      "source": [
        "BloomTech Data Science\n",
        "\n",
        "*Unit 2, Sprint 1, Module 4*\n",
        "\n",
        "---"
      ]
    },
    {
      "cell_type": "code",
      "metadata": {
        "id": "IorwKysWC9zl"
      },
      "source": [
        "%%capture\n",
        "import sys\n",
        "\n",
        "# If you're on Colab:\n",
        "if 'google.colab' in sys.modules:\n",
        "    DATA_PATH = 'https://raw.githubusercontent.com/LambdaSchool/DS-Unit-2-Linear-Models/master/data/'\n",
        "    !pip install category_encoders==2.*\n",
        "\n",
        "# If you're working locally:\n",
        "else:\n",
        "    DATA_PATH = '../data/'\n",
        "\n",
        "# Libraries for today's project\n",
        "from category_encoders import OneHotEncoder\n",
        "from sklearn.impute import SimpleImputer\n",
        "from sklearn.linear_model import LogisticRegression\n",
        "from sklearn.model_selection import train_test_split\n",
        "from sklearn.pipeline import make_pipeline\n",
        "from sklearn.preprocessing import StandardScaler\n",
        "import matplotlib.pyplot as plt\n",
        "import pandas as pd"
      ],
      "execution_count": null,
      "outputs": []
    },
    {
      "cell_type": "markdown",
      "metadata": {
        "id": "u0tT4qPmCzUF"
      },
      "source": [
        "# Part 1: Sprint Challenge Practice\n",
        "\n",
        "- Can I import a CSV file into a DataFrame?\n",
        "- Can I create a scatter plot?\n",
        "- Can I split a DataFrame into a target vector and feature matrix?\n",
        "- Can I split a dataset into a training set and a test set?\n",
        "- Can I establish the baseline mean absolute error for a regression problem?\n",
        "- Can I combine transformers with a predictor using a pipeline?\n",
        "- Can I build a linear regresion model and a ridge regression model?\n",
        "- Can I evaluate a model using common metrics like mean absolute error, root mean squared error, and R^2?\n",
        "- If given a feature matrix, can I use my model to create a list of predictions?\n",
        "- Can I create a horizontal bar chart with the coefficients from a linear model?"
      ]
    },
    {
      "cell_type": "markdown",
      "metadata": {
        "id": "x-sAbpUqC3dt"
      },
      "source": [
        "# Part 2: Pipelines and Plotting\n",
        "\n",
        "Let's revise [our work from yesterday](https://tinyurl.com/yb9cz6n5)."
      ]
    },
    {
      "cell_type": "markdown",
      "metadata": {
        "id": "XD8xTT0yC-bq"
      },
      "source": [
        "# Part 3: Logistic Regression"
      ]
    },
    {
      "cell_type": "markdown",
      "metadata": {
        "id": "2Cz8n4xnWmok"
      },
      "source": [
        "# I. Wrangle Data"
      ]
    },
    {
      "cell_type": "code",
      "metadata": {
        "id": "BMkDazfUzP_v"
      },
      "source": [
        ""
      ],
      "execution_count": null,
      "outputs": []
    },
    {
      "cell_type": "markdown",
      "metadata": {
        "id": "Vy-2aFoDXrar"
      },
      "source": [
        "## II. Split Data"
      ]
    },
    {
      "cell_type": "code",
      "metadata": {
        "id": "ARITmeldXfvP"
      },
      "source": [
        ""
      ],
      "execution_count": null,
      "outputs": []
    },
    {
      "cell_type": "markdown",
      "metadata": {
        "id": "7xTafalS_8V1"
      },
      "source": [
        "Since there's no time series component, we should do a randomized train-validation split."
      ]
    },
    {
      "cell_type": "code",
      "metadata": {
        "id": "JbtV3_BuX2oL"
      },
      "source": [
        ""
      ],
      "execution_count": null,
      "outputs": []
    },
    {
      "cell_type": "markdown",
      "metadata": {
        "id": "BQ0X5kSGZtge"
      },
      "source": [
        "## III. Establish our baseline\n",
        "\n",
        "- This is a **classification problem**, so we look at the **majority class** to calculate baseline **accuracy score**."
      ]
    },
    {
      "cell_type": "code",
      "metadata": {
        "id": "jZnTAwBCvVVA"
      },
      "source": [
        ""
      ],
      "execution_count": null,
      "outputs": []
    },
    {
      "cell_type": "markdown",
      "metadata": {
        "id": "rhN5A57katzk"
      },
      "source": [
        "## IV. Build Model\n",
        "\n",
        "- Why would regular linear regression not work here?"
      ]
    },
    {
      "cell_type": "code",
      "metadata": {
        "id": "PVvpbpAjMQN8"
      },
      "source": [
        ""
      ],
      "execution_count": null,
      "outputs": []
    },
    {
      "cell_type": "markdown",
      "metadata": {
        "id": "vEbK3zKW80aN"
      },
      "source": [
        "What we need for our model pipeline:\n",
        "\n",
        "- `OneHotEncoder`\n",
        "- `SimpleImputer`\n",
        "- `LogisticRegression`"
      ]
    },
    {
      "cell_type": "code",
      "metadata": {
        "id": "HWCW8vH18z_s"
      },
      "source": [
        ""
      ],
      "execution_count": null,
      "outputs": []
    },
    {
      "cell_type": "markdown",
      "metadata": {
        "id": "ewFaW1p_etFX"
      },
      "source": [
        "## V. Check Metrics"
      ]
    },
    {
      "cell_type": "code",
      "metadata": {
        "id": "EhxohqPsesdf"
      },
      "source": [
        ""
      ],
      "execution_count": null,
      "outputs": []
    },
    {
      "cell_type": "code",
      "metadata": {
        "id": "y64PC99k1INi"
      },
      "source": [
        ""
      ],
      "execution_count": null,
      "outputs": []
    }
  ]
}
