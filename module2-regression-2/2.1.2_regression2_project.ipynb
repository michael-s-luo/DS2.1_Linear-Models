{
  "cells": [
    {
      "cell_type": "markdown",
      "metadata": {
        "id": "ctiMCo8257hg"
      },
      "source": [
        "# Data Science  - Unit 2.1.2\n",
        "Name: Michael Luo\n",
        "\n",
        "Date: 2022/10/27"
      ]
    },
    {
      "cell_type": "code",
      "execution_count": null,
      "metadata": {
        "id": "JbFwj3AD57hj"
      },
      "outputs": [],
      "source": [
        "%%capture\n",
        "import sys\n",
        "\n",
        "# If you're on Colab:\n",
        "if 'google.colab' in sys.modules:\n",
        "    DATA_PATH = 'https://raw.githubusercontent.com/LambdaSchool/DS-Unit-2-Applied-Modeling/master/data/'\n",
        "\n",
        "# If you're working locally:\n",
        "else:\n",
        "    DATA_PATH = '../data/'"
      ]
    },
    {
      "cell_type": "markdown",
      "metadata": {
        "id": "fBODhVTi57hj"
      },
      "source": [
        "# Module Project: Regression II\n",
        "\n",
        "In this project, you'll continue working with the New York City rent dataset you used in the last module project.\n",
        "\n",
        "## Directions\n",
        "\n",
        "The tasks for this project are as follows:\n",
        "\n",
        "- **Task 1:** Import `csv` file using `wrangle` function.\n",
        "- **Task 2:** Conduct exploratory data analysis (EDA), and modify `wrangle` function to engineer two new features.\n",
        "- **Task 3:** Split data into feature matrix `X` and target vector `y`.\n",
        "- **Task 4:** Split feature matrix `X` and target vector `y` into training and test sets.\n",
        "- **Task 5:** Establish the baseline mean absolute error for your dataset.\n",
        "- **Task 6:** Build and train a `Linearregression` model.\n",
        "- **Task 7:** Calculate the training and test mean absolute error for your model.\n",
        "- **Task 8:** Calculate the training and test $R^2$ score for your model.\n",
        "- **Stretch Goal:** Determine the three most important features for your linear regression model.\n",
        "\n",
        "**Note**\n",
        "\n",
        "You should limit yourself to the following libraries for this project:\n",
        "\n",
        "- `matplotlib`\n",
        "- `numpy`\n",
        "- `pandas`\n",
        "- `sklearn`"
      ]
    },
    {
      "cell_type": "code",
      "source": [
        "import numpy as np\n",
        "import pandas as pd\n",
        "\n",
        "#modeling\n",
        "from sklearn.model_selection import train_test_split\n",
        "from sklearn.linear_model import LinearRegression\n",
        "\n",
        "#metrics\n",
        "from sklearn.metrics import mean_absolute_error\n",
        "from sklearn.metrics import r2_score\n",
        "from sklearn.metrics import mean_squared_error\n",
        "\n",
        "#visualization\n",
        "import matplotlib.pyplot as plt"
      ],
      "metadata": {
        "id": "cWb6QNH18IB8"
      },
      "execution_count": null,
      "outputs": []
    },
    {
      "cell_type": "markdown",
      "metadata": {
        "id": "lIUr5VRw57hk"
      },
      "source": [
        "# I. Wrangle Data"
      ]
    },
    {
      "cell_type": "code",
      "execution_count": null,
      "metadata": {
        "id": "_82n_B4M57hk"
      },
      "outputs": [],
      "source": [
        "def wrangle(filepath):\n",
        "    df = pd.read_csv(filepath, parse_dates=['created'], infer_datetime_format=True, index_col='created')\n",
        "    \n",
        "    # Remove the most extreme 1% prices,\n",
        "    # the most extreme .1% latitudes, &\n",
        "    # the most extreme .1% longitudes\n",
        "    df = df[(df['price'] >= np.percentile(df['price'], 0.5)) & \n",
        "            (df['price'] <= np.percentile(df['price'], 99.5)) & \n",
        "            (df['latitude'] >= np.percentile(df['latitude'], 0.05)) & \n",
        "            (df['latitude'] < np.percentile(df['latitude'], 99.95)) &\n",
        "            (df['longitude'] >= np.percentile(df['longitude'], 0.05)) & \n",
        "            (df['longitude'] <= np.percentile(df['longitude'], 99.95))]\n",
        "\n",
        "    #drop rows with any NaN\n",
        "    df.dropna(inplace=True)\n",
        "    \n",
        "    #DROP BAD DATA: columns with 0 bathroms and 0 bedrooms. \n",
        "    df = df[(df['bathrooms'] > 0) & (df['bedrooms'] > 0)]\n",
        "    \n",
        "    #drop columns with high cardinality or no clear value\n",
        "    df = df.drop(columns=['description', 'display_address', 'street_address'])\n",
        "    df['interest_level'] = df['interest_level'].map({'high': 2, 'medium':1, 'low':0})\n",
        "\n",
        "    #FEATURE ENGINEERING #1: total perks\n",
        "    perks = df.nunique()[df.nunique()<=2].index.tolist()\n",
        "    perks.remove('pre-war') #not a perk\n",
        "    df['perks'] = df[perks].sum(axis=1)   \n",
        "\n",
        "\n",
        "    #FEATURE ENGINEERING #2: total rooms; bed + bath\n",
        "    df['tot_room'] = df['bathrooms'] + df['bedrooms']\n",
        "\n",
        "    return df\n",
        "\n",
        "filepath = DATA_PATH + 'apartments/renthop-nyc.csv'"
      ]
    },
    {
      "cell_type": "markdown",
      "metadata": {
        "id": "J5nkXKkC57hl"
      },
      "source": [
        "**Task 1:** Add the following functionality to the above `wrangle` function.\n",
        "\n",
        "- The `'created'` column will parsed as a `DateTime` object and set as the `index` of the DataFrame. \n",
        "- Rows with `NaN` values will be dropped.\n",
        "\n",
        "Then use your modified function to import the `renthop-nyc.csv` file into a DataFrame named `df`."
      ]
    },
    {
      "cell_type": "code",
      "execution_count": null,
      "metadata": {
        "id": "9KUXJvWP57hl"
      },
      "outputs": [],
      "source": [
        "df = wrangle(filepath)"
      ]
    },
    {
      "cell_type": "markdown",
      "metadata": {
        "id": "KeSHgC4b57hm"
      },
      "source": [
        "**Task 2:** Using your `pandas` and dataviz skills decide on two features that you want to engineer for your dataset. Next, modify your `wrangle` function to add those features. \n",
        "\n",
        "**Note:** You can learn more about feature engineering [here](https://en.wikipedia.org/wiki/Feature_engineering). Here are some ideas for new features:\n",
        "\n",
        "- Does the apartment have a description?\n",
        "- Length of description.\n",
        "- Total number of perks that apartment has.\n",
        "- Are cats _or_ dogs allowed?\n",
        "- Are cats _and_ dogs allowed?\n",
        "- Total number of rooms (beds + baths)."
      ]
    },
    {
      "cell_type": "code",
      "source": [
        "print(df.columns)"
      ],
      "metadata": {
        "colab": {
          "base_uri": "https://localhost:8080/"
        },
        "id": "Cgc1UIhP9OhU",
        "outputId": "91fc184c-3cb4-471a-aa44-bf7a59a790a8"
      },
      "execution_count": null,
      "outputs": [
        {
          "output_type": "stream",
          "name": "stdout",
          "text": [
            "Index(['bathrooms', 'bedrooms', 'latitude', 'longitude', 'price',\n",
            "       'interest_level', 'elevator', 'cats_allowed', 'hardwood_floors',\n",
            "       'dogs_allowed', 'doorman', 'dishwasher', 'no_fee',\n",
            "       'laundry_in_building', 'fitness_center', 'pre-war', 'laundry_in_unit',\n",
            "       'roof_deck', 'outdoor_space', 'dining_room', 'high_speed_internet',\n",
            "       'balcony', 'swimming_pool', 'new_construction', 'terrace', 'exclusive',\n",
            "       'loft', 'garden_patio', 'wheelchair_access', 'common_outdoor_space',\n",
            "       'perks', 'tot_room'],\n",
            "      dtype='object')\n"
          ]
        }
      ]
    },
    {
      "cell_type": "code",
      "execution_count": null,
      "metadata": {
        "id": "Mg9Egd1757hm"
      },
      "outputs": [],
      "source": [
        "# Conduct your exploratory data analysis here, \n",
        "# and then modify the function above.\n",
        "# df.head()\n",
        "# display(df.info())\n",
        "# display(df.nunique())\n"
      ]
    },
    {
      "cell_type": "code",
      "source": [
        "df.head()"
      ],
      "metadata": {
        "id": "XjuDIWhcBDw1",
        "outputId": "a846df6a-5a19-441e-f94a-0f3f280cea2e",
        "colab": {
          "base_uri": "https://localhost:8080/",
          "height": 504
        }
      },
      "execution_count": null,
      "outputs": [
        {
          "output_type": "execute_result",
          "data": {
            "text/plain": [
              "                     bathrooms  bedrooms  latitude  longitude  price  \\\n",
              "created                                                                \n",
              "2016-06-24 07:54:24        1.5         3   40.7145   -73.9425   3000   \n",
              "2016-06-12 12:19:27        1.0         2   40.7947   -73.9667   5465   \n",
              "2016-04-17 03:26:41        1.0         1   40.7388   -74.0018   2850   \n",
              "2016-04-18 02:22:02        1.0         1   40.7539   -73.9677   3275   \n",
              "2016-04-28 01:32:41        1.0         4   40.8241   -73.9493   3350   \n",
              "\n",
              "                     interest_level  elevator  cats_allowed  hardwood_floors  \\\n",
              "created                                                                        \n",
              "2016-06-24 07:54:24               1         0             0                0   \n",
              "2016-06-12 12:19:27               0         1             1                0   \n",
              "2016-04-17 03:26:41               2         0             0                1   \n",
              "2016-04-18 02:22:02               0         0             0                1   \n",
              "2016-04-28 01:32:41               0         0             0                0   \n",
              "\n",
              "                     dogs_allowed  ...  swimming_pool  new_construction  \\\n",
              "created                            ...                                    \n",
              "2016-06-24 07:54:24             0  ...              0                 0   \n",
              "2016-06-12 12:19:27             1  ...              0                 0   \n",
              "2016-04-17 03:26:41             0  ...              0                 0   \n",
              "2016-04-18 02:22:02             0  ...              0                 0   \n",
              "2016-04-28 01:32:41             0  ...              0                 0   \n",
              "\n",
              "                     terrace  exclusive  loft  garden_patio  \\\n",
              "created                                                       \n",
              "2016-06-24 07:54:24        0          0     0             0   \n",
              "2016-06-12 12:19:27        0          0     0             0   \n",
              "2016-04-17 03:26:41        0          0     0             0   \n",
              "2016-04-18 02:22:02        0          0     0             0   \n",
              "2016-04-28 01:32:41        0          0     0             0   \n",
              "\n",
              "                     wheelchair_access  common_outdoor_space  perks  tot_room  \n",
              "created                                                                        \n",
              "2016-06-24 07:54:24                  0                     0      0       4.5  \n",
              "2016-06-12 12:19:27                  0                     0      5       3.0  \n",
              "2016-04-17 03:26:41                  0                     0      3       2.0  \n",
              "2016-04-18 02:22:02                  0                     0      2       2.0  \n",
              "2016-04-28 01:32:41                  0                     0      0       5.0  \n",
              "\n",
              "[5 rows x 32 columns]"
            ],
            "text/html": [
              "\n",
              "  <div id=\"df-b6caf9b3-70ed-49e6-ab39-b644d548ad03\">\n",
              "    <div class=\"colab-df-container\">\n",
              "      <div>\n",
              "<style scoped>\n",
              "    .dataframe tbody tr th:only-of-type {\n",
              "        vertical-align: middle;\n",
              "    }\n",
              "\n",
              "    .dataframe tbody tr th {\n",
              "        vertical-align: top;\n",
              "    }\n",
              "\n",
              "    .dataframe thead th {\n",
              "        text-align: right;\n",
              "    }\n",
              "</style>\n",
              "<table border=\"1\" class=\"dataframe\">\n",
              "  <thead>\n",
              "    <tr style=\"text-align: right;\">\n",
              "      <th></th>\n",
              "      <th>bathrooms</th>\n",
              "      <th>bedrooms</th>\n",
              "      <th>latitude</th>\n",
              "      <th>longitude</th>\n",
              "      <th>price</th>\n",
              "      <th>interest_level</th>\n",
              "      <th>elevator</th>\n",
              "      <th>cats_allowed</th>\n",
              "      <th>hardwood_floors</th>\n",
              "      <th>dogs_allowed</th>\n",
              "      <th>...</th>\n",
              "      <th>swimming_pool</th>\n",
              "      <th>new_construction</th>\n",
              "      <th>terrace</th>\n",
              "      <th>exclusive</th>\n",
              "      <th>loft</th>\n",
              "      <th>garden_patio</th>\n",
              "      <th>wheelchair_access</th>\n",
              "      <th>common_outdoor_space</th>\n",
              "      <th>perks</th>\n",
              "      <th>tot_room</th>\n",
              "    </tr>\n",
              "    <tr>\n",
              "      <th>created</th>\n",
              "      <th></th>\n",
              "      <th></th>\n",
              "      <th></th>\n",
              "      <th></th>\n",
              "      <th></th>\n",
              "      <th></th>\n",
              "      <th></th>\n",
              "      <th></th>\n",
              "      <th></th>\n",
              "      <th></th>\n",
              "      <th></th>\n",
              "      <th></th>\n",
              "      <th></th>\n",
              "      <th></th>\n",
              "      <th></th>\n",
              "      <th></th>\n",
              "      <th></th>\n",
              "      <th></th>\n",
              "      <th></th>\n",
              "      <th></th>\n",
              "      <th></th>\n",
              "    </tr>\n",
              "  </thead>\n",
              "  <tbody>\n",
              "    <tr>\n",
              "      <th>2016-06-24 07:54:24</th>\n",
              "      <td>1.5</td>\n",
              "      <td>3</td>\n",
              "      <td>40.7145</td>\n",
              "      <td>-73.9425</td>\n",
              "      <td>3000</td>\n",
              "      <td>1</td>\n",
              "      <td>0</td>\n",
              "      <td>0</td>\n",
              "      <td>0</td>\n",
              "      <td>0</td>\n",
              "      <td>...</td>\n",
              "      <td>0</td>\n",
              "      <td>0</td>\n",
              "      <td>0</td>\n",
              "      <td>0</td>\n",
              "      <td>0</td>\n",
              "      <td>0</td>\n",
              "      <td>0</td>\n",
              "      <td>0</td>\n",
              "      <td>0</td>\n",
              "      <td>4.5</td>\n",
              "    </tr>\n",
              "    <tr>\n",
              "      <th>2016-06-12 12:19:27</th>\n",
              "      <td>1.0</td>\n",
              "      <td>2</td>\n",
              "      <td>40.7947</td>\n",
              "      <td>-73.9667</td>\n",
              "      <td>5465</td>\n",
              "      <td>0</td>\n",
              "      <td>1</td>\n",
              "      <td>1</td>\n",
              "      <td>0</td>\n",
              "      <td>1</td>\n",
              "      <td>...</td>\n",
              "      <td>0</td>\n",
              "      <td>0</td>\n",
              "      <td>0</td>\n",
              "      <td>0</td>\n",
              "      <td>0</td>\n",
              "      <td>0</td>\n",
              "      <td>0</td>\n",
              "      <td>0</td>\n",
              "      <td>5</td>\n",
              "      <td>3.0</td>\n",
              "    </tr>\n",
              "    <tr>\n",
              "      <th>2016-04-17 03:26:41</th>\n",
              "      <td>1.0</td>\n",
              "      <td>1</td>\n",
              "      <td>40.7388</td>\n",
              "      <td>-74.0018</td>\n",
              "      <td>2850</td>\n",
              "      <td>2</td>\n",
              "      <td>0</td>\n",
              "      <td>0</td>\n",
              "      <td>1</td>\n",
              "      <td>0</td>\n",
              "      <td>...</td>\n",
              "      <td>0</td>\n",
              "      <td>0</td>\n",
              "      <td>0</td>\n",
              "      <td>0</td>\n",
              "      <td>0</td>\n",
              "      <td>0</td>\n",
              "      <td>0</td>\n",
              "      <td>0</td>\n",
              "      <td>3</td>\n",
              "      <td>2.0</td>\n",
              "    </tr>\n",
              "    <tr>\n",
              "      <th>2016-04-18 02:22:02</th>\n",
              "      <td>1.0</td>\n",
              "      <td>1</td>\n",
              "      <td>40.7539</td>\n",
              "      <td>-73.9677</td>\n",
              "      <td>3275</td>\n",
              "      <td>0</td>\n",
              "      <td>0</td>\n",
              "      <td>0</td>\n",
              "      <td>1</td>\n",
              "      <td>0</td>\n",
              "      <td>...</td>\n",
              "      <td>0</td>\n",
              "      <td>0</td>\n",
              "      <td>0</td>\n",
              "      <td>0</td>\n",
              "      <td>0</td>\n",
              "      <td>0</td>\n",
              "      <td>0</td>\n",
              "      <td>0</td>\n",
              "      <td>2</td>\n",
              "      <td>2.0</td>\n",
              "    </tr>\n",
              "    <tr>\n",
              "      <th>2016-04-28 01:32:41</th>\n",
              "      <td>1.0</td>\n",
              "      <td>4</td>\n",
              "      <td>40.8241</td>\n",
              "      <td>-73.9493</td>\n",
              "      <td>3350</td>\n",
              "      <td>0</td>\n",
              "      <td>0</td>\n",
              "      <td>0</td>\n",
              "      <td>0</td>\n",
              "      <td>0</td>\n",
              "      <td>...</td>\n",
              "      <td>0</td>\n",
              "      <td>0</td>\n",
              "      <td>0</td>\n",
              "      <td>0</td>\n",
              "      <td>0</td>\n",
              "      <td>0</td>\n",
              "      <td>0</td>\n",
              "      <td>0</td>\n",
              "      <td>0</td>\n",
              "      <td>5.0</td>\n",
              "    </tr>\n",
              "  </tbody>\n",
              "</table>\n",
              "<p>5 rows × 32 columns</p>\n",
              "</div>\n",
              "      <button class=\"colab-df-convert\" onclick=\"convertToInteractive('df-b6caf9b3-70ed-49e6-ab39-b644d548ad03')\"\n",
              "              title=\"Convert this dataframe to an interactive table.\"\n",
              "              style=\"display:none;\">\n",
              "        \n",
              "  <svg xmlns=\"http://www.w3.org/2000/svg\" height=\"24px\"viewBox=\"0 0 24 24\"\n",
              "       width=\"24px\">\n",
              "    <path d=\"M0 0h24v24H0V0z\" fill=\"none\"/>\n",
              "    <path d=\"M18.56 5.44l.94 2.06.94-2.06 2.06-.94-2.06-.94-.94-2.06-.94 2.06-2.06.94zm-11 1L8.5 8.5l.94-2.06 2.06-.94-2.06-.94L8.5 2.5l-.94 2.06-2.06.94zm10 10l.94 2.06.94-2.06 2.06-.94-2.06-.94-.94-2.06-.94 2.06-2.06.94z\"/><path d=\"M17.41 7.96l-1.37-1.37c-.4-.4-.92-.59-1.43-.59-.52 0-1.04.2-1.43.59L10.3 9.45l-7.72 7.72c-.78.78-.78 2.05 0 2.83L4 21.41c.39.39.9.59 1.41.59.51 0 1.02-.2 1.41-.59l7.78-7.78 2.81-2.81c.8-.78.8-2.07 0-2.86zM5.41 20L4 18.59l7.72-7.72 1.47 1.35L5.41 20z\"/>\n",
              "  </svg>\n",
              "      </button>\n",
              "      \n",
              "  <style>\n",
              "    .colab-df-container {\n",
              "      display:flex;\n",
              "      flex-wrap:wrap;\n",
              "      gap: 12px;\n",
              "    }\n",
              "\n",
              "    .colab-df-convert {\n",
              "      background-color: #E8F0FE;\n",
              "      border: none;\n",
              "      border-radius: 50%;\n",
              "      cursor: pointer;\n",
              "      display: none;\n",
              "      fill: #1967D2;\n",
              "      height: 32px;\n",
              "      padding: 0 0 0 0;\n",
              "      width: 32px;\n",
              "    }\n",
              "\n",
              "    .colab-df-convert:hover {\n",
              "      background-color: #E2EBFA;\n",
              "      box-shadow: 0px 1px 2px rgba(60, 64, 67, 0.3), 0px 1px 3px 1px rgba(60, 64, 67, 0.15);\n",
              "      fill: #174EA6;\n",
              "    }\n",
              "\n",
              "    [theme=dark] .colab-df-convert {\n",
              "      background-color: #3B4455;\n",
              "      fill: #D2E3FC;\n",
              "    }\n",
              "\n",
              "    [theme=dark] .colab-df-convert:hover {\n",
              "      background-color: #434B5C;\n",
              "      box-shadow: 0px 1px 3px 1px rgba(0, 0, 0, 0.15);\n",
              "      filter: drop-shadow(0px 1px 2px rgba(0, 0, 0, 0.3));\n",
              "      fill: #FFFFFF;\n",
              "    }\n",
              "  </style>\n",
              "\n",
              "      <script>\n",
              "        const buttonEl =\n",
              "          document.querySelector('#df-b6caf9b3-70ed-49e6-ab39-b644d548ad03 button.colab-df-convert');\n",
              "        buttonEl.style.display =\n",
              "          google.colab.kernel.accessAllowed ? 'block' : 'none';\n",
              "\n",
              "        async function convertToInteractive(key) {\n",
              "          const element = document.querySelector('#df-b6caf9b3-70ed-49e6-ab39-b644d548ad03');\n",
              "          const dataTable =\n",
              "            await google.colab.kernel.invokeFunction('convertToInteractive',\n",
              "                                                     [key], {});\n",
              "          if (!dataTable) return;\n",
              "\n",
              "          const docLinkHtml = 'Like what you see? Visit the ' +\n",
              "            '<a target=\"_blank\" href=https://colab.research.google.com/notebooks/data_table.ipynb>data table notebook</a>'\n",
              "            + ' to learn more about interactive tables.';\n",
              "          element.innerHTML = '';\n",
              "          dataTable['output_type'] = 'display_data';\n",
              "          await google.colab.output.renderOutput(dataTable, element);\n",
              "          const docLink = document.createElement('div');\n",
              "          docLink.innerHTML = docLinkHtml;\n",
              "          element.appendChild(docLink);\n",
              "        }\n",
              "      </script>\n",
              "    </div>\n",
              "  </div>\n",
              "  "
            ]
          },
          "metadata": {},
          "execution_count": 19
        }
      ]
    },
    {
      "cell_type": "markdown",
      "metadata": {
        "id": "XRHRWSDM57hn"
      },
      "source": [
        "# II. Split Data\n",
        "\n",
        "**Task 3:** Split your DataFrame `df` into a feature matrix `X` and the target vector `y`. You want to predict `'price'`.\n",
        "\n",
        "**Note:** In contrast to the last module project, this time you should include _all_ the numerical features in your dataset."
      ]
    },
    {
      "cell_type": "code",
      "execution_count": null,
      "metadata": {
        "id": "CRSpekRW57hn"
      },
      "outputs": [],
      "source": [
        "target = 'price'\n",
        "y = df[target]\n",
        "X = df.drop(columns=[target])"
      ]
    },
    {
      "cell_type": "markdown",
      "metadata": {
        "id": "7bVQRmUE57hn"
      },
      "source": [
        "**Task 4:** Split `X` and `y` into a training set (`X_train`, `y_train`) and a test set (`X_test`, `y_test`).\n",
        "\n",
        "- Your training set should include data from April and May 2016. \n",
        "- Your test set should include data from June 2016."
      ]
    },
    {
      "cell_type": "code",
      "source": [
        "#Check years\n",
        "# X.index.year.value_counts()\n",
        "  #only 2016 data\n",
        "\n",
        "#Check months\n",
        "# X.index.month.value_counts()"
      ],
      "metadata": {
        "id": "25TzKxl2K-kh"
      },
      "execution_count": null,
      "outputs": []
    },
    {
      "cell_type": "code",
      "source": [
        "train_mask_x"
      ],
      "metadata": {
        "colab": {
          "base_uri": "https://localhost:8080/"
        },
        "id": "A8j-PMSvLwRz",
        "outputId": "7577d9fa-d806-4fca-c084-4923a84fc1b4"
      },
      "execution_count": null,
      "outputs": [
        {
          "output_type": "execute_result",
          "data": {
            "text/plain": [
              "array([False, False,  True, ...,  True,  True,  True])"
            ]
          },
          "metadata": {},
          "execution_count": 22
        }
      ]
    },
    {
      "cell_type": "code",
      "execution_count": null,
      "metadata": {
        "id": "FI8zZwCI57hn"
      },
      "outputs": [],
      "source": [
        "cutoff = '2016-06'\n",
        "train_mask_x = X.index < cutoff\n",
        "train_mask_y = y.index < cutoff\n",
        "\n",
        "X_train, y_train = X[train_mask_x], y[train_mask_y]\n",
        "X_test, y_test = X[~train_mask_x], y[~train_mask_y]"
      ]
    },
    {
      "cell_type": "markdown",
      "metadata": {
        "id": "prpKv83_57ho"
      },
      "source": [
        "# III. Establish Baseline"
      ]
    },
    {
      "cell_type": "markdown",
      "metadata": {
        "id": "yJ1IWVcO57ho"
      },
      "source": [
        "**Task 5:** Since this is a **regression** problem, you need to calculate the baseline mean absolute error for your model. First, calculate the mean of `y_train`. Next, create a list `y_pred` that has the same length as `y_train` and where every item in the list is the mean. Finally, use `mean_absolute_error` to calculate your baseline."
      ]
    },
    {
      "cell_type": "code",
      "execution_count": null,
      "metadata": {
        "id": "xzVnh87W57ho",
        "colab": {
          "base_uri": "https://localhost:8080/"
        },
        "outputId": "be81db7e-b51a-4395-c41d-c82c7fdd7640"
      },
      "outputs": [
        {
          "output_type": "stream",
          "name": "stdout",
          "text": [
            "Baseline MAE: 1263.5038027602855\n"
          ]
        }
      ],
      "source": [
        "y_bar = y.mean()\n",
        "y_pred_baseline = [y_bar] * len(y)\n",
        "baseline_mae = mean_absolute_error(y, y_pred_baseline)\n",
        "print('Baseline MAE:', baseline_mae)"
      ]
    },
    {
      "cell_type": "markdown",
      "metadata": {
        "id": "Gflv66qV57ho"
      },
      "source": [
        "# IV. Build Model\n",
        "\n",
        "**Task 6:** Build and train a `LinearRegression` model named `model` using your feature matrix `X_train` and your target vector `y_train`."
      ]
    },
    {
      "cell_type": "code",
      "execution_count": null,
      "metadata": {
        "id": "0AJjnh8K57ho",
        "colab": {
          "base_uri": "https://localhost:8080/"
        },
        "outputId": "487b902f-8155-4e25-bafe-74cf6131919d"
      },
      "outputs": [
        {
          "output_type": "execute_result",
          "data": {
            "text/plain": [
              "LinearRegression()"
            ]
          },
          "metadata": {},
          "execution_count": 25
        }
      ],
      "source": [
        "# Step 1: Import predictor class\n",
        "#done\n",
        "\n",
        "# Step 2: Instantiate predictor\n",
        "model = LinearRegression()\n",
        "\n",
        "# Step 3: Fit predictor on the (training) data\n",
        "model.fit(X_train, y_train)"
      ]
    },
    {
      "cell_type": "markdown",
      "metadata": {
        "id": "YtTOutBx57ho"
      },
      "source": [
        "# V. Check Metrics\n",
        "\n",
        "**Task 7:** Calculate the training and test mean absolute error for your model."
      ]
    },
    {
      "cell_type": "code",
      "source": [
        "dir(model)"
      ],
      "metadata": {
        "colab": {
          "base_uri": "https://localhost:8080/"
        },
        "id": "YVeYDpptn3hY",
        "outputId": "adea03e2-9ecb-4021-d308-ad103267cb56"
      },
      "execution_count": null,
      "outputs": [
        {
          "output_type": "execute_result",
          "data": {
            "text/plain": [
              "['__abstractmethods__',\n",
              " '__class__',\n",
              " '__delattr__',\n",
              " '__dict__',\n",
              " '__dir__',\n",
              " '__doc__',\n",
              " '__eq__',\n",
              " '__format__',\n",
              " '__ge__',\n",
              " '__getattribute__',\n",
              " '__getstate__',\n",
              " '__gt__',\n",
              " '__hash__',\n",
              " '__init__',\n",
              " '__init_subclass__',\n",
              " '__le__',\n",
              " '__lt__',\n",
              " '__module__',\n",
              " '__ne__',\n",
              " '__new__',\n",
              " '__reduce__',\n",
              " '__reduce_ex__',\n",
              " '__repr__',\n",
              " '__setattr__',\n",
              " '__setstate__',\n",
              " '__sizeof__',\n",
              " '__str__',\n",
              " '__subclasshook__',\n",
              " '__weakref__',\n",
              " '_abc_impl',\n",
              " '_check_feature_names',\n",
              " '_check_n_features',\n",
              " '_decision_function',\n",
              " '_estimator_type',\n",
              " '_get_param_names',\n",
              " '_get_tags',\n",
              " '_more_tags',\n",
              " '_preprocess_data',\n",
              " '_repr_html_',\n",
              " '_repr_html_inner',\n",
              " '_repr_mimebundle_',\n",
              " '_residues',\n",
              " '_set_intercept',\n",
              " '_validate_data',\n",
              " 'coef_',\n",
              " 'copy_X',\n",
              " 'feature_names_in_',\n",
              " 'fit',\n",
              " 'fit_intercept',\n",
              " 'get_params',\n",
              " 'intercept_',\n",
              " 'n_features_in_',\n",
              " 'n_jobs',\n",
              " 'normalize',\n",
              " 'positive',\n",
              " 'predict',\n",
              " 'rank_',\n",
              " 'score',\n",
              " 'set_params',\n",
              " 'singular_']"
            ]
          },
          "metadata": {},
          "execution_count": 26
        }
      ]
    },
    {
      "cell_type": "code",
      "source": [
        "#make dictionary for feature names and coefs\n",
        "coefs = {}\n",
        "for n, c in zip(model.feature_names_in_, model.coef_):\n",
        "  coefs[n] = c\n",
        "\n",
        "coefs"
      ],
      "metadata": {
        "colab": {
          "base_uri": "https://localhost:8080/"
        },
        "id": "ZnJAR0BNOV4x",
        "outputId": "19f16096-c6f8-4fbd-dc27-ffa663c11251"
      },
      "execution_count": null,
      "outputs": [
        {
          "output_type": "execute_result",
          "data": {
            "text/plain": [
              "{'bathrooms': -841828491160127.8,\n",
              " 'bedrooms': -841828491161463.1,\n",
              " 'latitude': 1310.6970113860152,\n",
              " 'longitude': -13759.425988814464,\n",
              " 'interest_level': -430.24448960599733,\n",
              " 'elevator': 89.4003472725947,\n",
              " 'cats_allowed': -73.15342465352406,\n",
              " 'hardwood_floors': -183.18826166916986,\n",
              " 'dogs_allowed': 50.56227293571302,\n",
              " 'doorman': 452.37909431275347,\n",
              " 'dishwasher': 11.44820990671943,\n",
              " 'no_fee': -187.95809951879767,\n",
              " 'laundry_in_building': -146.72121200405047,\n",
              " 'fitness_center': 21.38297384459778,\n",
              " 'pre-war': -71.26439252779251,\n",
              " 'laundry_in_unit': 463.2972010506661,\n",
              " 'roof_deck': -230.44764073514605,\n",
              " 'outdoor_space': -138.662109375,\n",
              " 'dining_room': 211.68359375,\n",
              " 'high_speed_internet': -363.75390625,\n",
              " 'balcony': -132.005859375,\n",
              " 'swimming_pool': 49.830078125,\n",
              " 'new_construction': -183.478515625,\n",
              " 'terrace': 141.3759765625,\n",
              " 'exclusive': 33.384765625,\n",
              " 'loft': 274.50439453125,\n",
              " 'garden_patio': -115.947265625,\n",
              " 'wheelchair_access': 156.5361328125,\n",
              " 'common_outdoor_space': -160.7158203125,\n",
              " 'perks': 44.53125,\n",
              " 'tot_room': 841828491161920.5}"
            ]
          },
          "metadata": {},
          "execution_count": 27
        }
      ]
    },
    {
      "cell_type": "code",
      "execution_count": null,
      "metadata": {
        "id": "4f10nXk-57hp",
        "colab": {
          "base_uri": "https://localhost:8080/"
        },
        "outputId": "b342e6b2-0d73-4193-80cb-a7e22c8dd56e"
      },
      "outputs": [
        {
          "output_type": "stream",
          "name": "stdout",
          "text": [
            "Training MAE: 733.3456152511246\n",
            "Test MAE: 733.0104360669859\n"
          ]
        }
      ],
      "source": [
        "training_mae = mean_absolute_error(y_train, model.predict(X_train))\n",
        "test_mae = mean_absolute_error(y_test, model.predict(X_test))\n",
        "\n",
        "print('Training MAE:', training_mae)\n",
        "print('Test MAE:', test_mae)"
      ]
    },
    {
      "cell_type": "markdown",
      "metadata": {
        "id": "BqdpFvzH57hp"
      },
      "source": [
        "**Task 8:** Calculate the training and test $R^2$ score for your model."
      ]
    },
    {
      "cell_type": "code",
      "execution_count": null,
      "metadata": {
        "id": "dBHA3CCd57hp",
        "colab": {
          "base_uri": "https://localhost:8080/"
        },
        "outputId": "44465a42-1d1b-45a0-ebad-aab541caf318"
      },
      "outputs": [
        {
          "output_type": "stream",
          "name": "stdout",
          "text": [
            "Training MAE: 0.627866136531926\n",
            "Test MAE: 0.6386426927036721\n"
          ]
        }
      ],
      "source": [
        "y_train_pred = model.predict(X_train)\n",
        "y_test_pred = model.predict(X_test)\n",
        "training_r2 = r2_score(y_train, y_train_pred)\n",
        "test_r2 = r2_score(y_test, y_test_pred)\n",
        "\n",
        "print('Training MAE:', training_r2)\n",
        "print('Test MAE:', test_r2)"
      ]
    },
    {
      "cell_type": "code",
      "source": [
        "#should be same as above\n",
        "print(f'Training MAE: {model.score(X_train, y_train)}')\n",
        "print(f'Testing MAE: {model.score(X_test, y_test)}')"
      ],
      "metadata": {
        "colab": {
          "base_uri": "https://localhost:8080/"
        },
        "id": "V2FfNGwUPc42",
        "outputId": "d7ed1d25-ba9e-4ac4-8b05-a1894b4481f5"
      },
      "execution_count": null,
      "outputs": [
        {
          "output_type": "stream",
          "name": "stdout",
          "text": [
            "Training MAE: 0.627866136531926\n",
            "Testing MAE: 0.6386426927036721\n"
          ]
        }
      ]
    },
    {
      "cell_type": "markdown",
      "metadata": {
        "id": "feKTYieG57hp"
      },
      "source": [
        "# VI. Communicate Results\n",
        "\n",
        "**Stretch Goal:** What are the three most influential coefficients in your linear model? You should consider the _absolute value_ of each coefficient, so that it doesn't matter if it's positive or negative."
      ]
    },
    {
      "cell_type": "code",
      "execution_count": null,
      "metadata": {
        "id": "ZhpkQBme57hp"
      },
      "outputs": [],
      "source": [
        "#Make dataframe of coef names and values\n",
        "\n",
        "df_lf_coefs = pd.DataFrame({'name': model.feature_names_in_, 'coefficient': model.coef_})\n",
        "df_lf_coefs['absolute_coef'] = df_lf_coefs['coefficient'].abs()"
      ]
    },
    {
      "cell_type": "code",
      "source": [
        "#sort by highest absolute coefficient\n",
        "top10_coefs = df_lf_coefs.sort_values(by='absolute_coef', ascending=False).head(n=10)['name'].to_list()"
      ],
      "metadata": {
        "id": "D3v_IHrTQs42"
      },
      "execution_count": null,
      "outputs": []
    },
    {
      "cell_type": "code",
      "source": [
        "#Highest absolute coefficients of the model come from total rooms, bedrooms, and bathrooms\n",
        "#These are highly collinear?\n",
        "top10_coefs"
      ],
      "metadata": {
        "colab": {
          "base_uri": "https://localhost:8080/"
        },
        "id": "u57Ms-XXRTHq",
        "outputId": "e1b6c57e-81c8-40be-c838-c8b00cb45326"
      },
      "execution_count": null,
      "outputs": [
        {
          "output_type": "execute_result",
          "data": {
            "text/plain": [
              "['tot_room',\n",
              " 'bedrooms',\n",
              " 'bathrooms',\n",
              " 'longitude',\n",
              " 'latitude',\n",
              " 'laundry_in_unit',\n",
              " 'doorman',\n",
              " 'interest_level',\n",
              " 'high_speed_internet',\n",
              " 'loft']"
            ]
          },
          "metadata": {},
          "execution_count": 38
        }
      ]
    },
    {
      "cell_type": "code",
      "source": [
        "#play around with ols model\n",
        "from statsmodels.formula.api import ols\n",
        "\n",
        "model_ols = ols('price ~ bedrooms + bathrooms', data=df).fit()\n",
        "print(model_ols.summary()) #r^2 = 0.499\n",
        "\n",
        "model_ols = ols('price ~ tot_room', data=df).fit()\n",
        "print(model_ols.summary()) #r^2 = 0.394\n",
        "\n",
        "model_ols = ols('price ~ bathrooms', data=df).fit()\n",
        "print(model_ols.summary()) #r^2 = 0.481\n",
        "\n",
        "model_ols = ols('price ~ bedrooms', data=df).fit()\n",
        "print(model_ols.summary()) #r^2 = 0.231\n",
        "\n",
        "model_ols = ols('price ~ tot_room + bathrooms + bedrooms', data=df).fit()\n",
        "print(model_ols.summary()) #r^2 = 0.499\n",
        "#tot_room does not add any predictive value to the model. the variation is already described by bathrooms and bedrooms\n",
        "#tot_room alone is a better predictor than bedrooms but worse than bathrooms\n"
      ],
      "metadata": {
        "colab": {
          "base_uri": "https://localhost:8080/"
        },
        "id": "7Mv0F2LmRoio",
        "outputId": "22f8319a-bb43-4df0-d461-5fe449ec6e72"
      },
      "execution_count": null,
      "outputs": [
        {
          "output_type": "stream",
          "name": "stdout",
          "text": [
            "                            OLS Regression Results                            \n",
            "==============================================================================\n",
            "Dep. Variable:                  price   R-squared:                       0.500\n",
            "Model:                            OLS   Adj. R-squared:                  0.500\n",
            "Method:                 Least Squares   F-statistic:                 1.908e+04\n",
            "Date:                Thu, 27 Oct 2022   Prob (F-statistic):               0.00\n",
            "Time:                        11:33:55   Log-Likelihood:            -3.2723e+05\n",
            "No. Observations:               38104   AIC:                         6.545e+05\n",
            "Df Residuals:                   38101   BIC:                         6.545e+05\n",
            "Df Model:                           2                                         \n",
            "Covariance Type:            nonrobust                                         \n",
            "==============================================================================\n",
            "                 coef    std err          t      P>|t|      [0.025      0.975]\n",
            "------------------------------------------------------------------------------\n",
            "Intercept    416.4800     18.938     21.991      0.000     379.360     453.600\n",
            "bedrooms     317.0581      8.647     36.665      0.000     300.109     334.007\n",
            "bathrooms   2236.1165     15.638    142.995      0.000    2205.466    2266.767\n",
            "==============================================================================\n",
            "Omnibus:                    13066.409   Durbin-Watson:                   1.993\n",
            "Prob(Omnibus):                  0.000   Jarque-Bera (JB):           133986.871\n",
            "Skew:                           1.353   Prob(JB):                         0.00\n",
            "Kurtosis:                      11.779   Cond. No.                         8.72\n",
            "==============================================================================\n",
            "\n",
            "Notes:\n",
            "[1] Standard Errors assume that the covariance matrix of the errors is correctly specified.\n",
            "                            OLS Regression Results                            \n",
            "==============================================================================\n",
            "Dep. Variable:                  price   R-squared:                       0.396\n",
            "Model:                            OLS   Adj. R-squared:                  0.396\n",
            "Method:                 Least Squares   F-statistic:                 2.500e+04\n",
            "Date:                Thu, 27 Oct 2022   Prob (F-statistic):               0.00\n",
            "Time:                        11:33:55   Log-Likelihood:            -3.3084e+05\n",
            "No. Observations:               38104   AIC:                         6.617e+05\n",
            "Df Residuals:                   38102   BIC:                         6.617e+05\n",
            "Df Model:                           1                                         \n",
            "Covariance Type:            nonrobust                                         \n",
            "==============================================================================\n",
            "                 coef    std err          t      P>|t|      [0.025      0.975]\n",
            "------------------------------------------------------------------------------\n",
            "Intercept    907.7753     19.920     45.571      0.000     868.731     946.819\n",
            "tot_room     924.8913      5.850    158.104      0.000     913.425     936.357\n",
            "==============================================================================\n",
            "Omnibus:                    16571.362   Durbin-Watson:                   1.998\n",
            "Prob(Omnibus):                  0.000   Jarque-Bera (JB):           128593.130\n",
            "Skew:                           1.919   Prob(JB):                         0.00\n",
            "Kurtosis:                      11.140   Cond. No.                         9.98\n",
            "==============================================================================\n",
            "\n",
            "Notes:\n",
            "[1] Standard Errors assume that the covariance matrix of the errors is correctly specified.\n",
            "                            OLS Regression Results                            \n",
            "==============================================================================\n",
            "Dep. Variable:                  price   R-squared:                       0.483\n",
            "Model:                            OLS   Adj. R-squared:                  0.483\n",
            "Method:                 Least Squares   F-statistic:                 3.557e+04\n",
            "Date:                Thu, 27 Oct 2022   Prob (F-statistic):               0.00\n",
            "Time:                        11:33:55   Log-Likelihood:            -3.2789e+05\n",
            "No. Observations:               38104   AIC:                         6.558e+05\n",
            "Df Residuals:                   38102   BIC:                         6.558e+05\n",
            "Df Model:                           1                                         \n",
            "Covariance Type:            nonrobust                                         \n",
            "==============================================================================\n",
            "                 coef    std err          t      P>|t|      [0.025      0.975]\n",
            "------------------------------------------------------------------------------\n",
            "Intercept    637.4913     18.267     34.898      0.000     601.687     673.296\n",
            "bathrooms   2541.0586     13.474    188.589      0.000    2514.649    2567.468\n",
            "==============================================================================\n",
            "Omnibus:                    12289.344   Durbin-Watson:                   1.990\n",
            "Prob(Omnibus):                  0.000   Jarque-Bera (JB):           137357.308\n",
            "Skew:                           1.229   Prob(JB):                         0.00\n",
            "Kurtosis:                      11.971   Cond. No.                         5.47\n",
            "==============================================================================\n",
            "\n",
            "Notes:\n",
            "[1] Standard Errors assume that the covariance matrix of the errors is correctly specified.\n",
            "                            OLS Regression Results                            \n",
            "==============================================================================\n",
            "Dep. Variable:                  price   R-squared:                       0.232\n",
            "Model:                            OLS   Adj. R-squared:                  0.232\n",
            "Method:                 Least Squares   F-statistic:                 1.153e+04\n",
            "Date:                Thu, 27 Oct 2022   Prob (F-statistic):               0.00\n",
            "Time:                        11:33:55   Log-Likelihood:            -3.3542e+05\n",
            "No. Observations:               38104   AIC:                         6.708e+05\n",
            "Df Residuals:                   38102   BIC:                         6.709e+05\n",
            "Df Model:                           1                                         \n",
            "Covariance Type:            nonrobust                                         \n",
            "==============================================================================\n",
            "                 coef    std err          t      P>|t|      [0.025      0.975]\n",
            "------------------------------------------------------------------------------\n",
            "Intercept   1977.3755     19.184    103.073      0.000    1939.774    2014.977\n",
            "bedrooms     974.7132      9.078    107.376      0.000     956.921     992.506\n",
            "==============================================================================\n",
            "Omnibus:                    19266.673   Durbin-Watson:                   1.999\n",
            "Prob(Omnibus):                  0.000   Jarque-Bera (JB):           164834.340\n",
            "Skew:                           2.281   Prob(JB):                         0.00\n",
            "Kurtosis:                      12.111   Cond. No.                         5.85\n",
            "==============================================================================\n",
            "\n",
            "Notes:\n",
            "[1] Standard Errors assume that the covariance matrix of the errors is correctly specified.\n",
            "                            OLS Regression Results                            \n",
            "==============================================================================\n",
            "Dep. Variable:                  price   R-squared:                       0.500\n",
            "Model:                            OLS   Adj. R-squared:                  0.500\n",
            "Method:                 Least Squares   F-statistic:                 1.272e+04\n",
            "Date:                Thu, 27 Oct 2022   Prob (F-statistic):               0.00\n",
            "Time:                        11:33:55   Log-Likelihood:            -3.2723e+05\n",
            "No. Observations:               38104   AIC:                         6.545e+05\n",
            "Df Residuals:                   38100   BIC:                         6.545e+05\n",
            "Df Model:                           3                                         \n",
            "Covariance Type:            nonrobust                                         \n",
            "==============================================================================\n",
            "                 coef    std err          t      P>|t|      [0.025      0.975]\n",
            "------------------------------------------------------------------------------\n",
            "Intercept    423.2623     22.499     18.812      0.000     379.163     467.362\n",
            "tot_room   -2.434e+14   4.36e+14     -0.558      0.577    -1.1e+15    6.11e+14\n",
            "bathrooms   2.434e+14   4.36e+14      0.558      0.577   -6.11e+14     1.1e+15\n",
            "bedrooms    2.434e+14   4.36e+14      0.558      0.577   -6.11e+14     1.1e+15\n",
            "==============================================================================\n",
            "Omnibus:                    13063.350   Durbin-Watson:                   1.993\n",
            "Prob(Omnibus):                  0.000   Jarque-Bera (JB):           133809.005\n",
            "Skew:                           1.353   Prob(JB):                         0.00\n",
            "Kurtosis:                      11.772   Cond. No.                     4.89e+14\n",
            "==============================================================================\n",
            "\n",
            "Notes:\n",
            "[1] Standard Errors assume that the covariance matrix of the errors is correctly specified.\n",
            "[2] The smallest eigenvalue is 2.96e-24. This might indicate that there are\n",
            "strong multicollinearity problems or that the design matrix is singular.\n"
          ]
        }
      ]
    },
    {
      "cell_type": "code",
      "source": [],
      "metadata": {
        "id": "SSKz_y3eSkQK"
      },
      "execution_count": null,
      "outputs": []
    },
    {
      "cell_type": "code",
      "source": [
        "df.head()"
      ],
      "metadata": {
        "colab": {
          "base_uri": "https://localhost:8080/",
          "height": 504
        },
        "id": "uEkFsGPAR4Ii",
        "outputId": "bf3ae2f5-f350-47ec-92b1-51153bf3ea76"
      },
      "execution_count": null,
      "outputs": [
        {
          "output_type": "execute_result",
          "data": {
            "text/plain": [
              "                     bathrooms  bedrooms  latitude  longitude  price  \\\n",
              "created                                                                \n",
              "2016-06-24 07:54:24        1.5         3   40.7145   -73.9425   3000   \n",
              "2016-06-12 12:19:27        1.0         2   40.7947   -73.9667   5465   \n",
              "2016-04-17 03:26:41        1.0         1   40.7388   -74.0018   2850   \n",
              "2016-04-18 02:22:02        1.0         1   40.7539   -73.9677   3275   \n",
              "2016-04-28 01:32:41        1.0         4   40.8241   -73.9493   3350   \n",
              "\n",
              "                     interest_level  elevator  cats_allowed  hardwood_floors  \\\n",
              "created                                                                        \n",
              "2016-06-24 07:54:24               1         0             0                0   \n",
              "2016-06-12 12:19:27               0         1             1                0   \n",
              "2016-04-17 03:26:41               2         0             0                1   \n",
              "2016-04-18 02:22:02               0         0             0                1   \n",
              "2016-04-28 01:32:41               0         0             0                0   \n",
              "\n",
              "                     dogs_allowed  ...  swimming_pool  new_construction  \\\n",
              "created                            ...                                    \n",
              "2016-06-24 07:54:24             0  ...              0                 0   \n",
              "2016-06-12 12:19:27             1  ...              0                 0   \n",
              "2016-04-17 03:26:41             0  ...              0                 0   \n",
              "2016-04-18 02:22:02             0  ...              0                 0   \n",
              "2016-04-28 01:32:41             0  ...              0                 0   \n",
              "\n",
              "                     terrace  exclusive  loft  garden_patio  \\\n",
              "created                                                       \n",
              "2016-06-24 07:54:24        0          0     0             0   \n",
              "2016-06-12 12:19:27        0          0     0             0   \n",
              "2016-04-17 03:26:41        0          0     0             0   \n",
              "2016-04-18 02:22:02        0          0     0             0   \n",
              "2016-04-28 01:32:41        0          0     0             0   \n",
              "\n",
              "                     wheelchair_access  common_outdoor_space  perks  tot_room  \n",
              "created                                                                        \n",
              "2016-06-24 07:54:24                  0                     0      0       4.5  \n",
              "2016-06-12 12:19:27                  0                     0      5       3.0  \n",
              "2016-04-17 03:26:41                  0                     0      3       2.0  \n",
              "2016-04-18 02:22:02                  0                     0      2       2.0  \n",
              "2016-04-28 01:32:41                  0                     0      0       5.0  \n",
              "\n",
              "[5 rows x 32 columns]"
            ],
            "text/html": [
              "\n",
              "  <div id=\"df-f814b33a-7d67-40f9-bc34-c84644c1f8c8\">\n",
              "    <div class=\"colab-df-container\">\n",
              "      <div>\n",
              "<style scoped>\n",
              "    .dataframe tbody tr th:only-of-type {\n",
              "        vertical-align: middle;\n",
              "    }\n",
              "\n",
              "    .dataframe tbody tr th {\n",
              "        vertical-align: top;\n",
              "    }\n",
              "\n",
              "    .dataframe thead th {\n",
              "        text-align: right;\n",
              "    }\n",
              "</style>\n",
              "<table border=\"1\" class=\"dataframe\">\n",
              "  <thead>\n",
              "    <tr style=\"text-align: right;\">\n",
              "      <th></th>\n",
              "      <th>bathrooms</th>\n",
              "      <th>bedrooms</th>\n",
              "      <th>latitude</th>\n",
              "      <th>longitude</th>\n",
              "      <th>price</th>\n",
              "      <th>interest_level</th>\n",
              "      <th>elevator</th>\n",
              "      <th>cats_allowed</th>\n",
              "      <th>hardwood_floors</th>\n",
              "      <th>dogs_allowed</th>\n",
              "      <th>...</th>\n",
              "      <th>swimming_pool</th>\n",
              "      <th>new_construction</th>\n",
              "      <th>terrace</th>\n",
              "      <th>exclusive</th>\n",
              "      <th>loft</th>\n",
              "      <th>garden_patio</th>\n",
              "      <th>wheelchair_access</th>\n",
              "      <th>common_outdoor_space</th>\n",
              "      <th>perks</th>\n",
              "      <th>tot_room</th>\n",
              "    </tr>\n",
              "    <tr>\n",
              "      <th>created</th>\n",
              "      <th></th>\n",
              "      <th></th>\n",
              "      <th></th>\n",
              "      <th></th>\n",
              "      <th></th>\n",
              "      <th></th>\n",
              "      <th></th>\n",
              "      <th></th>\n",
              "      <th></th>\n",
              "      <th></th>\n",
              "      <th></th>\n",
              "      <th></th>\n",
              "      <th></th>\n",
              "      <th></th>\n",
              "      <th></th>\n",
              "      <th></th>\n",
              "      <th></th>\n",
              "      <th></th>\n",
              "      <th></th>\n",
              "      <th></th>\n",
              "      <th></th>\n",
              "    </tr>\n",
              "  </thead>\n",
              "  <tbody>\n",
              "    <tr>\n",
              "      <th>2016-06-24 07:54:24</th>\n",
              "      <td>1.5</td>\n",
              "      <td>3</td>\n",
              "      <td>40.7145</td>\n",
              "      <td>-73.9425</td>\n",
              "      <td>3000</td>\n",
              "      <td>1</td>\n",
              "      <td>0</td>\n",
              "      <td>0</td>\n",
              "      <td>0</td>\n",
              "      <td>0</td>\n",
              "      <td>...</td>\n",
              "      <td>0</td>\n",
              "      <td>0</td>\n",
              "      <td>0</td>\n",
              "      <td>0</td>\n",
              "      <td>0</td>\n",
              "      <td>0</td>\n",
              "      <td>0</td>\n",
              "      <td>0</td>\n",
              "      <td>0</td>\n",
              "      <td>4.5</td>\n",
              "    </tr>\n",
              "    <tr>\n",
              "      <th>2016-06-12 12:19:27</th>\n",
              "      <td>1.0</td>\n",
              "      <td>2</td>\n",
              "      <td>40.7947</td>\n",
              "      <td>-73.9667</td>\n",
              "      <td>5465</td>\n",
              "      <td>0</td>\n",
              "      <td>1</td>\n",
              "      <td>1</td>\n",
              "      <td>0</td>\n",
              "      <td>1</td>\n",
              "      <td>...</td>\n",
              "      <td>0</td>\n",
              "      <td>0</td>\n",
              "      <td>0</td>\n",
              "      <td>0</td>\n",
              "      <td>0</td>\n",
              "      <td>0</td>\n",
              "      <td>0</td>\n",
              "      <td>0</td>\n",
              "      <td>5</td>\n",
              "      <td>3.0</td>\n",
              "    </tr>\n",
              "    <tr>\n",
              "      <th>2016-04-17 03:26:41</th>\n",
              "      <td>1.0</td>\n",
              "      <td>1</td>\n",
              "      <td>40.7388</td>\n",
              "      <td>-74.0018</td>\n",
              "      <td>2850</td>\n",
              "      <td>2</td>\n",
              "      <td>0</td>\n",
              "      <td>0</td>\n",
              "      <td>1</td>\n",
              "      <td>0</td>\n",
              "      <td>...</td>\n",
              "      <td>0</td>\n",
              "      <td>0</td>\n",
              "      <td>0</td>\n",
              "      <td>0</td>\n",
              "      <td>0</td>\n",
              "      <td>0</td>\n",
              "      <td>0</td>\n",
              "      <td>0</td>\n",
              "      <td>3</td>\n",
              "      <td>2.0</td>\n",
              "    </tr>\n",
              "    <tr>\n",
              "      <th>2016-04-18 02:22:02</th>\n",
              "      <td>1.0</td>\n",
              "      <td>1</td>\n",
              "      <td>40.7539</td>\n",
              "      <td>-73.9677</td>\n",
              "      <td>3275</td>\n",
              "      <td>0</td>\n",
              "      <td>0</td>\n",
              "      <td>0</td>\n",
              "      <td>1</td>\n",
              "      <td>0</td>\n",
              "      <td>...</td>\n",
              "      <td>0</td>\n",
              "      <td>0</td>\n",
              "      <td>0</td>\n",
              "      <td>0</td>\n",
              "      <td>0</td>\n",
              "      <td>0</td>\n",
              "      <td>0</td>\n",
              "      <td>0</td>\n",
              "      <td>2</td>\n",
              "      <td>2.0</td>\n",
              "    </tr>\n",
              "    <tr>\n",
              "      <th>2016-04-28 01:32:41</th>\n",
              "      <td>1.0</td>\n",
              "      <td>4</td>\n",
              "      <td>40.8241</td>\n",
              "      <td>-73.9493</td>\n",
              "      <td>3350</td>\n",
              "      <td>0</td>\n",
              "      <td>0</td>\n",
              "      <td>0</td>\n",
              "      <td>0</td>\n",
              "      <td>0</td>\n",
              "      <td>...</td>\n",
              "      <td>0</td>\n",
              "      <td>0</td>\n",
              "      <td>0</td>\n",
              "      <td>0</td>\n",
              "      <td>0</td>\n",
              "      <td>0</td>\n",
              "      <td>0</td>\n",
              "      <td>0</td>\n",
              "      <td>0</td>\n",
              "      <td>5.0</td>\n",
              "    </tr>\n",
              "  </tbody>\n",
              "</table>\n",
              "<p>5 rows × 32 columns</p>\n",
              "</div>\n",
              "      <button class=\"colab-df-convert\" onclick=\"convertToInteractive('df-f814b33a-7d67-40f9-bc34-c84644c1f8c8')\"\n",
              "              title=\"Convert this dataframe to an interactive table.\"\n",
              "              style=\"display:none;\">\n",
              "        \n",
              "  <svg xmlns=\"http://www.w3.org/2000/svg\" height=\"24px\"viewBox=\"0 0 24 24\"\n",
              "       width=\"24px\">\n",
              "    <path d=\"M0 0h24v24H0V0z\" fill=\"none\"/>\n",
              "    <path d=\"M18.56 5.44l.94 2.06.94-2.06 2.06-.94-2.06-.94-.94-2.06-.94 2.06-2.06.94zm-11 1L8.5 8.5l.94-2.06 2.06-.94-2.06-.94L8.5 2.5l-.94 2.06-2.06.94zm10 10l.94 2.06.94-2.06 2.06-.94-2.06-.94-.94-2.06-.94 2.06-2.06.94z\"/><path d=\"M17.41 7.96l-1.37-1.37c-.4-.4-.92-.59-1.43-.59-.52 0-1.04.2-1.43.59L10.3 9.45l-7.72 7.72c-.78.78-.78 2.05 0 2.83L4 21.41c.39.39.9.59 1.41.59.51 0 1.02-.2 1.41-.59l7.78-7.78 2.81-2.81c.8-.78.8-2.07 0-2.86zM5.41 20L4 18.59l7.72-7.72 1.47 1.35L5.41 20z\"/>\n",
              "  </svg>\n",
              "      </button>\n",
              "      \n",
              "  <style>\n",
              "    .colab-df-container {\n",
              "      display:flex;\n",
              "      flex-wrap:wrap;\n",
              "      gap: 12px;\n",
              "    }\n",
              "\n",
              "    .colab-df-convert {\n",
              "      background-color: #E8F0FE;\n",
              "      border: none;\n",
              "      border-radius: 50%;\n",
              "      cursor: pointer;\n",
              "      display: none;\n",
              "      fill: #1967D2;\n",
              "      height: 32px;\n",
              "      padding: 0 0 0 0;\n",
              "      width: 32px;\n",
              "    }\n",
              "\n",
              "    .colab-df-convert:hover {\n",
              "      background-color: #E2EBFA;\n",
              "      box-shadow: 0px 1px 2px rgba(60, 64, 67, 0.3), 0px 1px 3px 1px rgba(60, 64, 67, 0.15);\n",
              "      fill: #174EA6;\n",
              "    }\n",
              "\n",
              "    [theme=dark] .colab-df-convert {\n",
              "      background-color: #3B4455;\n",
              "      fill: #D2E3FC;\n",
              "    }\n",
              "\n",
              "    [theme=dark] .colab-df-convert:hover {\n",
              "      background-color: #434B5C;\n",
              "      box-shadow: 0px 1px 3px 1px rgba(0, 0, 0, 0.15);\n",
              "      filter: drop-shadow(0px 1px 2px rgba(0, 0, 0, 0.3));\n",
              "      fill: #FFFFFF;\n",
              "    }\n",
              "  </style>\n",
              "\n",
              "      <script>\n",
              "        const buttonEl =\n",
              "          document.querySelector('#df-f814b33a-7d67-40f9-bc34-c84644c1f8c8 button.colab-df-convert');\n",
              "        buttonEl.style.display =\n",
              "          google.colab.kernel.accessAllowed ? 'block' : 'none';\n",
              "\n",
              "        async function convertToInteractive(key) {\n",
              "          const element = document.querySelector('#df-f814b33a-7d67-40f9-bc34-c84644c1f8c8');\n",
              "          const dataTable =\n",
              "            await google.colab.kernel.invokeFunction('convertToInteractive',\n",
              "                                                     [key], {});\n",
              "          if (!dataTable) return;\n",
              "\n",
              "          const docLinkHtml = 'Like what you see? Visit the ' +\n",
              "            '<a target=\"_blank\" href=https://colab.research.google.com/notebooks/data_table.ipynb>data table notebook</a>'\n",
              "            + ' to learn more about interactive tables.';\n",
              "          element.innerHTML = '';\n",
              "          dataTable['output_type'] = 'display_data';\n",
              "          await google.colab.output.renderOutput(dataTable, element);\n",
              "          const docLink = document.createElement('div');\n",
              "          docLink.innerHTML = docLinkHtml;\n",
              "          element.appendChild(docLink);\n",
              "        }\n",
              "      </script>\n",
              "    </div>\n",
              "  </div>\n",
              "  "
            ]
          },
          "metadata": {},
          "execution_count": 35
        }
      ]
    }
  ],
  "metadata": {
    "colab": {
      "collapsed_sections": [],
      "provenance": []
    },
    "kernelspec": {
      "display_name": "Python 3",
      "language": "python",
      "name": "python3"
    },
    "language_info": {
      "codemirror_mode": {
        "name": "ipython",
        "version": 3
      },
      "file_extension": ".py",
      "mimetype": "text/x-python",
      "name": "python",
      "nbconvert_exporter": "python",
      "pygments_lexer": "ipython3",
      "version": "3.8.5"
    }
  },
  "nbformat": 4,
  "nbformat_minor": 0
}